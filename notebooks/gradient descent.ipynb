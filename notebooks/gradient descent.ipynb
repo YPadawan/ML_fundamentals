{
 "cells": [
  {
   "cell_type": "code",
   "execution_count": 1,
   "metadata": {},
   "outputs": [],
   "source": [
    "import numpy as np\n",
    "import matplotlib.pyplot as plt"
   ]
  },
  {
   "cell_type": "markdown",
   "metadata": {},
   "source": [
    "# Gradient descent\n",
    "\n",
    "## Analytical gradient descent"
   ]
  },
  {
   "cell_type": "code",
   "execution_count": 2,
   "metadata": {},
   "outputs": [],
   "source": [
    "def gradient_descent(x0, f, g, learning_rate=0.05, T=1000):\n",
    "    \"\"\"\n",
    "    X: array of values\n",
    "    f: function to apply\n",
    "    g: gradient of the function\n",
    "    learning_rate: Learning rate for each step\n",
    "    T: number of iteration\n",
    "    \"\"\"\n",
    "    x = x0\n",
    "    t = 0\n",
    "    while t <= T:\n",
    "        x -= learning_rate * g(x)\n",
    "        t +=1\n",
    "    return x"
   ]
  },
  {
   "cell_type": "code",
   "execution_count": 3,
   "metadata": {},
   "outputs": [],
   "source": [
    "def test_function(x):\n",
    "    return 3*(x**2) + 4*x + 1"
   ]
  },
  {
   "cell_type": "code",
   "execution_count": 4,
   "metadata": {},
   "outputs": [],
   "source": [
    "def test_function_gradient(x):\n",
    "    return 6*x + 4"
   ]
  },
  {
   "cell_type": "code",
   "execution_count": 5,
   "metadata": {},
   "outputs": [],
   "source": [
    "X = np.random.rand(10)"
   ]
  },
  {
   "cell_type": "code",
   "execution_count": 6,
   "metadata": {},
   "outputs": [
    {
     "data": {
      "text/plain": [
       "-0.6666666666666665"
      ]
     },
     "execution_count": 6,
     "metadata": {},
     "output_type": "execute_result"
    }
   ],
   "source": [
    "gradient_descent(10, test_function, test_function_gradient)"
   ]
  },
  {
   "cell_type": "code",
   "execution_count": 7,
   "metadata": {},
   "outputs": [
    {
     "data": {
      "text/plain": [
       "array([0.27341011, 0.02729229, 0.67185016, 0.16542925, 0.93261355,\n",
       "       0.49692679, 0.48212734, 0.9388974 , 0.18673612, 0.7766184 ])"
      ]
     },
     "execution_count": 7,
     "metadata": {},
     "output_type": "execute_result"
    }
   ],
   "source": [
    "X"
   ]
  },
  {
   "cell_type": "code",
   "execution_count": 8,
   "metadata": {},
   "outputs": [
    {
     "ename": "TypeError",
     "evalue": "gradient_descent() missing 2 required positional arguments: 'f' and 'g'",
     "output_type": "error",
     "traceback": [
      "\u001b[0;31m---------------------------------------------------------------------------\u001b[0m",
      "\u001b[0;31mTypeError\u001b[0m                                 Traceback (most recent call last)",
      "\u001b[0;32m<ipython-input-8-99916e421403>\u001b[0m in \u001b[0;36m<module>\u001b[0;34m\u001b[0m\n\u001b[0;32m----> 1\u001b[0;31m \u001b[0mgradient_descent\u001b[0m\u001b[0;34m(\u001b[0m\u001b[0mX\u001b[0m\u001b[0;34m)\u001b[0m\u001b[0;34m\u001b[0m\u001b[0;34m\u001b[0m\u001b[0m\n\u001b[0m",
      "\u001b[0;31mTypeError\u001b[0m: gradient_descent() missing 2 required positional arguments: 'f' and 'g'"
     ]
    }
   ],
   "source": [
    "gradient_descent(X)"
   ]
  },
  {
   "cell_type": "markdown",
   "metadata": {},
   "source": [
    "## Numerical gradient descent"
   ]
  },
  {
   "cell_type": "code",
   "execution_count": 9,
   "metadata": {},
   "outputs": [],
   "source": [
    "def numerical_gradient_descent(x0,f,dx,learning_rate=0.05, T=1000):\n",
    "    x = x0\n",
    "    t = 0\n",
    "    while t <= T:\n",
    "        x -= learning_rate * (f(x + dx) - f(x)) / dx\n",
    "        t+=1\n",
    "    return x"
   ]
  },
  {
   "cell_type": "code",
   "execution_count": 10,
   "metadata": {},
   "outputs": [
    {
     "data": {
      "text/plain": [
       "-0.6716666666666643"
      ]
     },
     "execution_count": 10,
     "metadata": {},
     "output_type": "execute_result"
    }
   ],
   "source": [
    "numerical_gradient_descent(10, test_function, dx=0.01)"
   ]
  },
  {
   "cell_type": "markdown",
   "metadata": {},
   "source": [
    "## Algorithmic Differentiation [with tensorflow]\n",
    "- Check Tensorflow tutorial notebook about the use of the notebook."
   ]
  },
  {
   "cell_type": "code",
   "execution_count": 11,
   "metadata": {},
   "outputs": [],
   "source": [
    "def logistic_cost(ytrue, yhat):\n",
    "    return np.log(1 + np.exp(-ytrue*yhat))\n",
    "\n",
    "# Use rosenbrock's function to test gradient descent\n",
    "# Compute gradient:\n",
    "    # analytically\n",
    "    # numerically\n",
    "    # algorithmic differentiation"
   ]
  },
  {
   "cell_type": "code",
   "execution_count": 12,
   "metadata": {},
   "outputs": [],
   "source": [
    "# Creating the stochastic gradient descent function\n",
    "def stochastic_gradient_descent(X, ytrue, T=1000, epsilon=0.1, learning_rate=0.5): \n",
    "    nrow = len(ytrue)\n",
    "    w = np.zeros(X.shape[1])  # initialisation du vecteur w avec les w_i = 0\n",
    "    t = 0\n",
    "    m = len(ytrue)\n",
    "    \n",
    "    cost = np.inf\n",
    "    costs = []\n",
    "\n",
    "    while (np.linalg.norm(np.gradient(cost)) > epsilon) or (t <= T):\n",
    "        i = np.random.randint(nrow)\n",
    "        y_t = ytrue[i] \n",
    "        X_t = X[i,:]\n",
    "        prediction = np.dot(X_t.T, w)\n",
    "        cost = np.sum(logistic_cost(prediction, y_t))\n",
    "        costs.append(cost)\n",
    "        w = w - learning_rate * (1/m * X_t.T.dot(prediction - y_t))\n",
    "        t += 1 \n",
    "    return w, costs "
   ]
  },
  {
   "cell_type": "code",
   "execution_count": 13,
   "metadata": {},
   "outputs": [],
   "source": [
    "# def BGFS(X, y, cost_func, epsilon=0.1, T=1000):\n",
    "#     d = X.shape[1]\n",
    "#     wt = np.zeros(d)\n",
    "#     B0 = np.identity(d, dtype=np.float64)\n",
    "#     prediction = np.dot(X.T, w)\n",
    "#     cost = np.sum(logistic_cost(prediction, y))\n",
    "#     w = w - np.gradient(1/m * X.T.dot(prediction - y_t))\n",
    "#     p0 = -1 * np.gradient(cost)\n",
    "#     t = 0\n",
    "#     wt_new = wt\n",
    "    \n",
    "#     while np.abs(wt - wt_new) <= epsilon * \n",
    "    \n",
    "# def BGFS(X, y, cost_func, epsilon=0.1, T=1000):\n",
    "#     d = X.shape[1]\n",
    "#     w = np.zeros(d)\n",
    "#     wp = w\n",
    "#     B0 = np.identity(d, dtype=np.float64)\n",
    "    \n",
    "    \n",
    "#     NewLoss = cost_func(wt, X)\n",
    "#     g = np.gradient()\n",
    "#     prediction = np.dot(X.T, w)\n",
    "#     cost = np.sum(logistic_cost(prediction, y))\n",
    "#     prev_cost = cost\n",
    "#     w = w - np.gradient(1/m * X.T.dot(prediction - y))\n",
    "#     g = \n",
    "#     p0 = -1 * np.gradient(cost)\n",
    "#     t = 0\n",
    "#     wt_new = wt\n",
    "    \n",
    "#     while np.abs(wt - wt_new) <= epsilon * "
   ]
  },
  {
   "cell_type": "code",
   "execution_count": 38,
   "metadata": {},
   "outputs": [],
   "source": [
    "from sklearn.datasets import make_classification\n",
    "X, y = make_classification(n_samples=100, n_features=5)"
   ]
  },
  {
   "cell_type": "code",
   "execution_count": 15,
   "metadata": {},
   "outputs": [
    {
     "data": {
      "text/plain": [
       "(10, 5)"
      ]
     },
     "execution_count": 15,
     "metadata": {},
     "output_type": "execute_result"
    }
   ],
   "source": [
    "X.shape"
   ]
  },
  {
   "cell_type": "code",
   "execution_count": 16,
   "metadata": {},
   "outputs": [
    {
     "data": {
      "text/plain": [
       "array([1, 0, 1, 1, 1, 0, 0, 0, 1, 0])"
      ]
     },
     "execution_count": 16,
     "metadata": {},
     "output_type": "execute_result"
    }
   ],
   "source": [
    "y"
   ]
  },
  {
   "cell_type": "code",
   "execution_count": 17,
   "metadata": {},
   "outputs": [
    {
     "ename": "NameError",
     "evalue": "name 'w' is not defined",
     "output_type": "error",
     "traceback": [
      "\u001b[0;31m---------------------------------------------------------------------------\u001b[0m",
      "\u001b[0;31mNameError\u001b[0m                                 Traceback (most recent call last)",
      "\u001b[0;32m<ipython-input-17-74c7db5447c3>\u001b[0m in \u001b[0;36m<module>\u001b[0;34m\u001b[0m\n\u001b[0;32m----> 1\u001b[0;31m \u001b[0mw\u001b[0m\u001b[0;34m\u001b[0m\u001b[0;34m\u001b[0m\u001b[0m\n\u001b[0m",
      "\u001b[0;31mNameError\u001b[0m: name 'w' is not defined"
     ]
    }
   ],
   "source": [
    "w"
   ]
  },
  {
   "cell_type": "code",
   "execution_count": 18,
   "metadata": {},
   "outputs": [],
   "source": [
    "t = np.array([i for i in range(1001)])"
   ]
  },
  {
   "cell_type": "code",
   "execution_count": 19,
   "metadata": {},
   "outputs": [
    {
     "data": {
      "text/plain": [
       "(1001,)"
      ]
     },
     "execution_count": 19,
     "metadata": {},
     "output_type": "execute_result"
    }
   ],
   "source": [
    "t.shape"
   ]
  },
  {
   "cell_type": "code",
   "execution_count": 20,
   "metadata": {},
   "outputs": [
    {
     "ename": "NameError",
     "evalue": "name 'costs' is not defined",
     "output_type": "error",
     "traceback": [
      "\u001b[0;31m---------------------------------------------------------------------------\u001b[0m",
      "\u001b[0;31mNameError\u001b[0m                                 Traceback (most recent call last)",
      "\u001b[0;32m<ipython-input-20-33af62b2c86a>\u001b[0m in \u001b[0;36m<module>\u001b[0;34m\u001b[0m\n\u001b[0;32m----> 1\u001b[0;31m \u001b[0mlen\u001b[0m\u001b[0;34m(\u001b[0m\u001b[0mcosts\u001b[0m\u001b[0;34m)\u001b[0m\u001b[0;34m\u001b[0m\u001b[0;34m\u001b[0m\u001b[0m\n\u001b[0m",
      "\u001b[0;31mNameError\u001b[0m: name 'costs' is not defined"
     ]
    }
   ],
   "source": [
    "len(costs)"
   ]
  },
  {
   "cell_type": "code",
   "execution_count": 21,
   "metadata": {},
   "outputs": [
    {
     "ename": "NameError",
     "evalue": "name 'costs' is not defined",
     "output_type": "error",
     "traceback": [
      "\u001b[0;31m---------------------------------------------------------------------------\u001b[0m",
      "\u001b[0;31mNameError\u001b[0m                                 Traceback (most recent call last)",
      "\u001b[0;32m<ipython-input-21-e6fb38c00ca4>\u001b[0m in \u001b[0;36m<module>\u001b[0;34m\u001b[0m\n\u001b[0;32m----> 1\u001b[0;31m \u001b[0mplt\u001b[0m\u001b[0;34m.\u001b[0m\u001b[0mplot\u001b[0m\u001b[0;34m(\u001b[0m\u001b[0mt\u001b[0m\u001b[0;34m,\u001b[0m \u001b[0mcosts\u001b[0m\u001b[0;34m)\u001b[0m\u001b[0;34m\u001b[0m\u001b[0;34m\u001b[0m\u001b[0m\n\u001b[0m",
      "\u001b[0;31mNameError\u001b[0m: name 'costs' is not defined"
     ]
    }
   ],
   "source": [
    "plt.plot(t, costs)"
   ]
  },
  {
   "cell_type": "code",
   "execution_count": 22,
   "metadata": {},
   "outputs": [
    {
     "data": {
      "text/plain": [
       "(10,)"
      ]
     },
     "execution_count": 22,
     "metadata": {},
     "output_type": "execute_result"
    }
   ],
   "source": [
    "np.zeros(10).shape"
   ]
  },
  {
   "cell_type": "markdown",
   "metadata": {},
   "source": [
    "# Some classification algorithms"
   ]
  },
  {
   "cell_type": "code",
   "execution_count": 23,
   "metadata": {},
   "outputs": [],
   "source": [
    "# Testing the code for the perceptron\n",
    "eta = 0.1\n",
    "n, d = X.shape\n",
    "w = np.zeros(d)\n",
    "\n",
    "n, d = X.shape\n",
    "w = np.zeros(d)\n",
    "w0 = 0.\n",
    "t = 0\n",
    "while t <= 100:\n",
    "    i = np.random.randint(n)\n",
    "    y_t = y[i] \n",
    "    X_t = X[i,:]\n",
    "    if (y_t * (np.dot(w,X_t.T) + w0)) <= 0:\n",
    "        w0 += eta*y_t\n",
    "        w += eta * y_t * X_t\n",
    "    else:\n",
    "        w = w\n",
    "    t +=1"
   ]
  },
  {
   "cell_type": "code",
   "execution_count": 24,
   "metadata": {},
   "outputs": [],
   "source": [
    "# Perceptron function\n",
    "def perceptron(X, y, eta=0.1, T=1000):\n",
    "    n, d = X.shape\n",
    "    w = np.zeros(d)\n",
    "    w0 = 0.\n",
    "    t = 0\n",
    "    while t <= T:\n",
    "        i = np.random.randint(n)\n",
    "        y_t = y[i] \n",
    "        X_t = X[i,:]\n",
    "        print((w, w0))\n",
    "        if (y_t * (np.dot(w,X_t.T) + w0)) <= 0:\n",
    "            w0 += eta*y_t\n",
    "            w += eta * y_t * X_t\n",
    "        else:\n",
    "            w = w\n",
    "            w0 = w0\n",
    "        t +=1\n",
    "    return w, w0"
   ]
  },
  {
   "cell_type": "code",
   "execution_count": 39,
   "metadata": {},
   "outputs": [
    {
     "name": "stdout",
     "output_type": "stream",
     "text": [
      "(array([0., 0., 0., 0., 0.]), 0.0)\n",
      "(array([0., 0., 0., 0., 0.]), 0.0)\n",
      "(array([0., 0., 0., 0., 0.]), 0.0)\n",
      "(array([0., 0., 0., 0., 0.]), 0.0)\n",
      "(array([0., 0., 0., 0., 0.]), 0.0)\n",
      "(array([ 0.21820352, -0.11732563,  0.20659043, -0.05607717,  0.03266471]), 0.1)\n",
      "(array([ 0.21820352, -0.11732563,  0.20659043, -0.05607717,  0.03266471]), 0.1)\n",
      "(array([ 0.21820352, -0.11732563,  0.20659043, -0.05607717,  0.03266471]), 0.1)\n",
      "(array([ 0.21820352, -0.11732563,  0.20659043, -0.05607717,  0.03266471]), 0.1)\n",
      "(array([ 0.21820352, -0.11732563,  0.20659043, -0.05607717,  0.03266471]), 0.1)\n",
      "(array([ 0.21820352, -0.11732563,  0.20659043, -0.05607717,  0.03266471]), 0.1)\n"
     ]
    }
   ],
   "source": [
    "w, w0 = perceptron(X, y, T=10)"
   ]
  },
  {
   "cell_type": "code",
   "execution_count": 26,
   "metadata": {},
   "outputs": [
    {
     "data": {
      "text/plain": [
       "0.2"
      ]
     },
     "execution_count": 26,
     "metadata": {},
     "output_type": "execute_result"
    }
   ],
   "source": [
    "w0"
   ]
  },
  {
   "cell_type": "code",
   "execution_count": 45,
   "metadata": {},
   "outputs": [],
   "source": [
    "sortie_test = (np.dot(w, X.T) + w0)"
   ]
  },
  {
   "cell_type": "code",
   "execution_count": 27,
   "metadata": {},
   "outputs": [
    {
     "data": {
      "text/plain": [
       "0.6771316775261573"
      ]
     },
     "execution_count": 27,
     "metadata": {},
     "output_type": "execute_result"
    }
   ],
   "source": [
    "(y[5] * w @ X[5].T + w0) / np.linalg.norm(w)"
   ]
  },
  {
   "cell_type": "code",
   "execution_count": 42,
   "metadata": {},
   "outputs": [],
   "source": [
    "def activation(x):\n",
    "    if x > 0: \n",
    "        return 1\n",
    "    else: \n",
    "        return -1"
   ]
  },
  {
   "cell_type": "code",
   "execution_count": 57,
   "metadata": {},
   "outputs": [
    {
     "data": {
      "text/plain": [
       "True"
      ]
     },
     "execution_count": 57,
     "metadata": {},
     "output_type": "execute_result"
    }
   ],
   "source": [
    "type(w0) == np.dtype('float64')"
   ]
  },
  {
   "cell_type": "code",
   "execution_count": 46,
   "metadata": {},
   "outputs": [
    {
     "data": {
      "text/plain": [
       "array([-0.52517699, -0.27305774,  0.66000704,  1.52648826, -0.421868  ,\n",
       "        0.20204216, -0.68468165, -0.68401282, -0.70013726,  0.79442962,\n",
       "        0.10596325, -0.43000501, -0.46480789,  0.46763364,  0.01051363,\n",
       "       -0.53934054,  0.73394098, -0.20674061, -0.61351956, -0.39636847,\n",
       "        0.79722777,  0.34329584,  1.26032973, -0.0916505 , -0.03172506,\n",
       "        1.04507921, -0.1817996 ,  0.53171765,  0.66242078,  0.75304859,\n",
       "       -0.452702  , -0.41070607,  0.42238437,  0.73986322,  0.6505345 ,\n",
       "       -0.45685948, -0.14282927,  0.75954681, -0.58202525, -0.53290902,\n",
       "       -0.35688217, -0.37682572, -0.62096517,  0.42705852,  0.6732538 ,\n",
       "       -0.20843121,  0.52257223,  1.18269318, -0.49072721,  1.03199629,\n",
       "        1.33681499, -0.25215369, -0.27564412,  0.31104379,  0.2599486 ,\n",
       "       -0.1155815 ,  0.35300142,  2.06203904, -0.32955854, -0.23198058,\n",
       "       -0.38502562, -0.02816661,  0.80022362, -0.38023179,  0.52440308,\n",
       "        0.7173559 , -0.47814171, -0.30043102, -0.18655112,  0.82571228,\n",
       "        1.14958119, -0.44388621,  0.34407354, -0.40918766,  0.63728599,\n",
       "        0.59423285, -0.46892743, -0.47053774,  0.94302712,  0.70369743,\n",
       "       -0.23872964,  0.73670786, -0.68931068, -0.22364374,  1.54319224,\n",
       "       -0.45246691,  0.24745665,  0.32746405,  0.6754714 ,  1.72158042,\n",
       "       -0.34040785, -0.40209846, -0.22781837,  0.68411674,  0.92782126,\n",
       "       -0.05616889,  0.74580556,  1.71825141, -0.71507262, -0.46640452])"
      ]
     },
     "execution_count": 46,
     "metadata": {},
     "output_type": "execute_result"
    }
   ],
   "source": [
    "sortie_test"
   ]
  },
  {
   "cell_type": "code",
   "execution_count": 58,
   "metadata": {},
   "outputs": [
    {
     "data": {
      "text/plain": [
       "array([-1., -1.,  1.,  1., -1.,  1., -1., -1., -1.,  1.,  1., -1., -1.,\n",
       "        1.,  1., -1.,  1., -1., -1., -1.,  1.,  1.,  1., -1., -1.,  1.,\n",
       "       -1.,  1.,  1.,  1., -1., -1.,  1.,  1.,  1., -1., -1.,  1., -1.,\n",
       "       -1., -1., -1., -1.,  1.,  1., -1.,  1.,  1., -1.,  1.,  1., -1.,\n",
       "       -1.,  1.,  1., -1.,  1.,  1., -1., -1., -1., -1.,  1., -1.,  1.,\n",
       "        1., -1., -1., -1.,  1.,  1., -1.,  1., -1.,  1.,  1., -1., -1.,\n",
       "        1.,  1., -1.,  1., -1., -1.,  1., -1.,  1.,  1.,  1.,  1., -1.,\n",
       "       -1., -1.,  1.,  1., -1.,  1.,  1., -1., -1.])"
      ]
     },
     "execution_count": 58,
     "metadata": {},
     "output_type": "execute_result"
    }
   ],
   "source": [
    "np.sign(sortie_test)"
   ]
  },
  {
   "cell_type": "code",
   "execution_count": 48,
   "metadata": {
    "scrolled": true
   },
   "outputs": [
    {
     "data": {
      "text/plain": [
       "[-1,\n",
       " -1,\n",
       " 1,\n",
       " 1,\n",
       " -1,\n",
       " 1,\n",
       " -1,\n",
       " -1,\n",
       " -1,\n",
       " 1,\n",
       " 1,\n",
       " -1,\n",
       " -1,\n",
       " 1,\n",
       " 1,\n",
       " -1,\n",
       " 1,\n",
       " -1,\n",
       " -1,\n",
       " -1,\n",
       " 1,\n",
       " 1,\n",
       " 1,\n",
       " -1,\n",
       " -1,\n",
       " 1,\n",
       " -1,\n",
       " 1,\n",
       " 1,\n",
       " 1,\n",
       " -1,\n",
       " -1,\n",
       " 1,\n",
       " 1,\n",
       " 1,\n",
       " -1,\n",
       " -1,\n",
       " 1,\n",
       " -1,\n",
       " -1,\n",
       " -1,\n",
       " -1,\n",
       " -1,\n",
       " 1,\n",
       " 1,\n",
       " -1,\n",
       " 1,\n",
       " 1,\n",
       " -1,\n",
       " 1,\n",
       " 1,\n",
       " -1,\n",
       " -1,\n",
       " 1,\n",
       " 1,\n",
       " -1,\n",
       " 1,\n",
       " 1,\n",
       " -1,\n",
       " -1,\n",
       " -1,\n",
       " -1,\n",
       " 1,\n",
       " -1,\n",
       " 1,\n",
       " 1,\n",
       " -1,\n",
       " -1,\n",
       " -1,\n",
       " 1,\n",
       " 1,\n",
       " -1,\n",
       " 1,\n",
       " -1,\n",
       " 1,\n",
       " 1,\n",
       " -1,\n",
       " -1,\n",
       " 1,\n",
       " 1,\n",
       " -1,\n",
       " 1,\n",
       " -1,\n",
       " -1,\n",
       " 1,\n",
       " -1,\n",
       " 1,\n",
       " 1,\n",
       " 1,\n",
       " 1,\n",
       " -1,\n",
       " -1,\n",
       " -1,\n",
       " 1,\n",
       " 1,\n",
       " -1,\n",
       " 1,\n",
       " 1,\n",
       " -1,\n",
       " -1]"
      ]
     },
     "execution_count": 48,
     "metadata": {},
     "output_type": "execute_result"
    }
   ],
   "source": [
    "list(map(lambda x: activation(x), sortie_test))"
   ]
  },
  {
   "cell_type": "code",
   "execution_count": 30,
   "metadata": {},
   "outputs": [
    {
     "data": {
      "text/plain": [
       "1"
      ]
     },
     "execution_count": 30,
     "metadata": {},
     "output_type": "execute_result"
    }
   ],
   "source": [
    "activation((y[5] * w @ X[5].T + w0) / np.linalg.norm(w))"
   ]
  },
  {
   "cell_type": "code",
   "execution_count": 6,
   "metadata": {},
   "outputs": [
    {
     "data": {
      "text/plain": [
       "array([0.1986317 , 0.31725294, 0.58070686, 0.11693641, 0.93201599,\n",
       "       0.58055408, 0.38162891, 0.20343095, 0.07359161, 0.91957794])"
      ]
     },
     "execution_count": 6,
     "metadata": {},
     "output_type": "execute_result"
    }
   ],
   "source": [
    "np.random.random(10)"
   ]
  },
  {
   "cell_type": "code",
   "execution_count": 46,
   "metadata": {},
   "outputs": [],
   "source": [
    "# making the adaline algorithm\n",
    "def adaline(X, y, eta=0.1, T=1000):\n",
    "    n, d = X.shape\n",
    "    w = np.random.random(d)\n",
    "    w0 = 0\n",
    "    t = 0\n",
    "    h = 0\n",
    "    while t <= T:\n",
    "        i = np.random.randint(n)\n",
    "        yt = y[i]\n",
    "        Xt = X[i,:]\n",
    "        h = np.sign((w0 + np.dot(w,Xt.T)))\n",
    "#         h = activation(h)\n",
    "        w0 += eta*(yt - h)\n",
    "        w += eta * (yt - h) * Xt\n",
    "        t += 1\n",
    "    return w, w0\n",
    "    "
   ]
  },
  {
   "cell_type": "code",
   "execution_count": 47,
   "metadata": {},
   "outputs": [
    {
     "data": {
      "text/plain": [
       "(array([-1.06036228e-02,  4.03209240e-01, -2.79639867e-01, -9.91285892e-02,\n",
       "         7.02710903e-02,  2.39968690e-01,  4.07756888e-02,  8.29421271e-01,\n",
       "        -2.38973969e-01, -4.81040723e-01,  7.28099200e-01,  2.62684751e+00,\n",
       "        -4.60356297e-01,  5.73880187e-01,  3.23100450e-01, -3.69506806e-01,\n",
       "        -1.54382186e-01,  4.95485556e-01,  2.87166692e-01, -2.50065139e-01,\n",
       "        -1.01653944e-01,  1.44675325e-02, -1.06761257e-01,  2.16266490e-01,\n",
       "        -1.79380644e-03]), -0.4)"
      ]
     },
     "execution_count": 47,
     "metadata": {},
     "output_type": "execute_result"
    }
   ],
   "source": [
    "adaline(X, y, T=1000)"
   ]
  },
  {
   "cell_type": "code",
   "execution_count": 37,
   "metadata": {},
   "outputs": [
    {
     "data": {
      "text/plain": [
       "(10, 5)"
      ]
     },
     "execution_count": 37,
     "metadata": {},
     "output_type": "execute_result"
    }
   ],
   "source": [
    "X.shape"
   ]
  },
  {
   "cell_type": "markdown",
   "metadata": {},
   "source": [
    "# Gradient conjugate"
   ]
  },
  {
   "cell_type": "markdown",
   "metadata": {},
   "source": []
  }
 ],
 "metadata": {
  "kernelspec": {
   "display_name": "Python 3",
   "language": "python",
   "name": "python3"
  },
  "language_info": {
   "codemirror_mode": {
    "name": "ipython",
    "version": 3
   },
   "file_extension": ".py",
   "mimetype": "text/x-python",
   "name": "python",
   "nbconvert_exporter": "python",
   "pygments_lexer": "ipython3",
   "version": "3.6.8"
  }
 },
 "nbformat": 4,
 "nbformat_minor": 2
}
