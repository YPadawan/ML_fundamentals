{
 "cells": [
  {
   "cell_type": "code",
   "execution_count": 2,
   "metadata": {},
   "outputs": [],
   "source": [
    "import numpy as np\n",
    "import matplotlib.pyplot as plt"
   ]
  },
  {
   "cell_type": "markdown",
   "metadata": {},
   "source": [
    "# Gradient descent\n",
    "\n",
    "## Analytical gradient descent"
   ]
  },
  {
   "cell_type": "code",
   "execution_count": 2,
   "metadata": {},
   "outputs": [],
   "source": [
    "def gradient_descent(x0, f, g, learning_rate=0.05, T=1000):\n",
    "    \"\"\"\n",
    "    X: array of values\n",
    "    f: function to apply\n",
    "    g: gradient of the function\n",
    "    learning_rate: Learning rate for each step\n",
    "    T: number of iteration\n",
    "    \"\"\"\n",
    "    x = x0\n",
    "    t = 0\n",
    "    while t <= T:\n",
    "        x -= learning_rate * g(x)\n",
    "        t +=1\n",
    "    return x"
   ]
  },
  {
   "cell_type": "code",
   "execution_count": 3,
   "metadata": {},
   "outputs": [],
   "source": [
    "def test_function(x):\n",
    "    return 3*(x**2) + 4*x + 1"
   ]
  },
  {
   "cell_type": "code",
   "execution_count": 4,
   "metadata": {},
   "outputs": [],
   "source": [
    "def test_function_gradient(x):\n",
    "    return 6*x + 4"
   ]
  },
  {
   "cell_type": "code",
   "execution_count": 5,
   "metadata": {},
   "outputs": [],
   "source": [
    "X = np.random.rand(10)"
   ]
  },
  {
   "cell_type": "code",
   "execution_count": 7,
   "metadata": {},
   "outputs": [
    {
     "data": {
      "text/plain": [
       "-0.6666666666666665"
      ]
     },
     "execution_count": 7,
     "metadata": {},
     "output_type": "execute_result"
    }
   ],
   "source": [
    "gradient_descent(10, test_function, test_function_gradient)"
   ]
  },
  {
   "cell_type": "code",
   "execution_count": 8,
   "metadata": {},
   "outputs": [
    {
     "data": {
      "text/plain": [
       "array([0.32898133, 0.54444417, 0.1240864 , 0.37420193, 0.97954549,\n",
       "       0.16405347, 0.23631836, 0.40352342, 0.60919433, 0.82925444])"
      ]
     },
     "execution_count": 8,
     "metadata": {},
     "output_type": "execute_result"
    }
   ],
   "source": [
    "X"
   ]
  },
  {
   "cell_type": "code",
   "execution_count": 9,
   "metadata": {},
   "outputs": [
    {
     "ename": "TypeError",
     "evalue": "gradient_descent() missing 2 required positional arguments: 'f' and 'g'",
     "output_type": "error",
     "traceback": [
      "\u001b[0;31m---------------------------------------------------------------------------\u001b[0m",
      "\u001b[0;31mTypeError\u001b[0m                                 Traceback (most recent call last)",
      "\u001b[0;32m<ipython-input-9-99916e421403>\u001b[0m in \u001b[0;36m<module>\u001b[0;34m\u001b[0m\n\u001b[0;32m----> 1\u001b[0;31m \u001b[0mgradient_descent\u001b[0m\u001b[0;34m(\u001b[0m\u001b[0mX\u001b[0m\u001b[0;34m)\u001b[0m\u001b[0;34m\u001b[0m\u001b[0;34m\u001b[0m\u001b[0m\n\u001b[0m",
      "\u001b[0;31mTypeError\u001b[0m: gradient_descent() missing 2 required positional arguments: 'f' and 'g'"
     ]
    }
   ],
   "source": [
    "gradient_descent(X)"
   ]
  },
  {
   "cell_type": "markdown",
   "metadata": {},
   "source": [
    "## Numerical gradient descent"
   ]
  },
  {
   "cell_type": "code",
   "execution_count": 10,
   "metadata": {},
   "outputs": [],
   "source": [
    "def numerical_gradient_descent(x0,f,dx,learning_rate=0.05, T=1000):\n",
    "    x = x0\n",
    "    t = 0\n",
    "    while t <= T:\n",
    "        x -= learning_rate * (f(x + dx) - f(x)) / dx\n",
    "        t+=1\n",
    "    return x"
   ]
  },
  {
   "cell_type": "code",
   "execution_count": 11,
   "metadata": {},
   "outputs": [
    {
     "data": {
      "text/plain": [
       "-0.6716666666666643"
      ]
     },
     "execution_count": 11,
     "metadata": {},
     "output_type": "execute_result"
    }
   ],
   "source": [
    "numerical_gradient_descent(10, test_function, dx=0.01)"
   ]
  },
  {
   "cell_type": "markdown",
   "metadata": {},
   "source": [
    "## Algorithmic Differentiation [with tensorflow]\n",
    "- Check Tensorflow tutorial notebook about the use of the notebook."
   ]
  },
  {
   "cell_type": "code",
   "execution_count": 12,
   "metadata": {},
   "outputs": [],
   "source": [
    "def logistic_cost(ytrue, yhat):\n",
    "    return np.log(1 + np.exp(-ytrue*yhat))\n",
    "\n",
    "# Use rosenbrock's function to test gradient descent\n",
    "# Compute gradient:\n",
    "    # analytically\n",
    "    # numerically\n",
    "    # algorithmic differentiation"
   ]
  },
  {
   "cell_type": "code",
   "execution_count": 13,
   "metadata": {},
   "outputs": [],
   "source": [
    "# Creating the stochastic gradient descent function\n",
    "def stochastic_gradient_descent(X, ytrue, T=1000, epsilon=0.1, learning_rate=0.5): \n",
    "    nrow = len(ytrue)\n",
    "    w = np.zeros(X.shape[1])  # initialisation du vecteur w avec les w_i = 0\n",
    "    t = 0\n",
    "    m = len(ytrue)\n",
    "    \n",
    "    cost = np.inf\n",
    "    costs = []\n",
    "\n",
    "    while (np.linalg.norm(np.gradient(cost)) > epsilon) or (t <= T):\n",
    "        i = np.random.randint(nrow)\n",
    "        y_t = ytrue[i] \n",
    "        X_t = X[i,:]\n",
    "        prediction = np.dot(X_t.T, w)\n",
    "        cost = np.sum(logistic_cost(prediction, y_t))\n",
    "        costs.append(cost)\n",
    "        w = w - learning_rate * (1/m * X_t.T.dot(prediction - y_t))\n",
    "        t += 1 \n",
    "    return w, costs "
   ]
  },
  {
   "cell_type": "code",
   "execution_count": null,
   "metadata": {},
   "outputs": [],
   "source": [
    "# def BGFS(X, y, cost_func, epsilon=0.1, T=1000):\n",
    "#     d = X.shape[1]\n",
    "#     wt = np.zeros(d)\n",
    "#     B0 = np.identity(d, dtype=np.float64)\n",
    "#     prediction = np.dot(X.T, w)\n",
    "#     cost = np.sum(logistic_cost(prediction, y))\n",
    "#     w = w - np.gradient(1/m * X.T.dot(prediction - y_t))\n",
    "#     p0 = -1 * np.gradient(cost)\n",
    "#     t = 0\n",
    "#     wt_new = wt\n",
    "    \n",
    "#     while np.abs(wt - wt_new) <= epsilon * \n",
    "    \n",
    "# def BGFS(X, y, cost_func, epsilon=0.1, T=1000):\n",
    "#     d = X.shape[1]\n",
    "#     w = np.zeros(d)\n",
    "#     wp = w\n",
    "#     B0 = np.identity(d, dtype=np.float64)\n",
    "    \n",
    "    \n",
    "#     NewLoss = cost_func(wt, X)\n",
    "#     g = np.gradient()\n",
    "#     prediction = np.dot(X.T, w)\n",
    "#     cost = np.sum(logistic_cost(prediction, y))\n",
    "#     prev_cost = cost\n",
    "#     w = w - np.gradient(1/m * X.T.dot(prediction - y))\n",
    "#     g = \n",
    "#     p0 = -1 * np.gradient(cost)\n",
    "#     t = 0\n",
    "#     wt_new = wt\n",
    "    \n",
    "#     while np.abs(wt - wt_new) <= epsilon * "
   ]
  },
  {
   "cell_type": "code",
   "execution_count": 9,
   "metadata": {},
   "outputs": [],
   "source": [
    "from sklearn.datasets import make_classification\n",
    "X, y = make_classification(n_samples=100, n_features=25)"
   ]
  },
  {
   "cell_type": "code",
   "execution_count": 5,
   "metadata": {},
   "outputs": [
    {
     "data": {
      "text/plain": [
       "(100, 25)"
      ]
     },
     "execution_count": 5,
     "metadata": {},
     "output_type": "execute_result"
    }
   ],
   "source": [
    "X.shape"
   ]
  },
  {
   "cell_type": "code",
   "execution_count": 6,
   "metadata": {},
   "outputs": [
    {
     "data": {
      "text/plain": [
       "(100,)"
      ]
     },
     "execution_count": 6,
     "metadata": {},
     "output_type": "execute_result"
    }
   ],
   "source": [
    "y.shape"
   ]
  },
  {
   "cell_type": "code",
   "execution_count": 18,
   "metadata": {},
   "outputs": [
    {
     "data": {
      "text/plain": [
       "array([-0.19359975, -0.02257361,  0.09313582,  0.19779196,  0.29299544,\n",
       "        0.08367926,  0.03667636,  0.05009537, -0.01661149, -0.00878274,\n",
       "        0.29145733, -0.36510629,  0.37590629, -0.06468997, -0.05546188,\n",
       "        0.2652245 ,  0.01802248,  0.35260599,  0.16291789,  0.17070718,\n",
       "       -0.02609385, -0.28949568, -0.1605659 ,  0.15742504,  0.00573942])"
      ]
     },
     "execution_count": 18,
     "metadata": {},
     "output_type": "execute_result"
    }
   ],
   "source": [
    "w"
   ]
  },
  {
   "cell_type": "code",
   "execution_count": 18,
   "metadata": {},
   "outputs": [],
   "source": [
    "t = np.array([i for i in range(1001)])"
   ]
  },
  {
   "cell_type": "code",
   "execution_count": 19,
   "metadata": {},
   "outputs": [
    {
     "data": {
      "text/plain": [
       "(1001,)"
      ]
     },
     "execution_count": 19,
     "metadata": {},
     "output_type": "execute_result"
    }
   ],
   "source": [
    "t.shape"
   ]
  },
  {
   "cell_type": "code",
   "execution_count": 20,
   "metadata": {},
   "outputs": [
    {
     "data": {
      "text/plain": [
       "1001"
      ]
     },
     "execution_count": 20,
     "metadata": {},
     "output_type": "execute_result"
    }
   ],
   "source": [
    "len(costs)"
   ]
  },
  {
   "cell_type": "code",
   "execution_count": 21,
   "metadata": {},
   "outputs": [
    {
     "data": {
      "text/plain": [
       "[<matplotlib.lines.Line2D at 0x7fd28c635550>]"
      ]
     },
     "execution_count": 21,
     "metadata": {},
     "output_type": "execute_result"
    },
    {
     "data": {
      "image/png": "[encoded data removed]",
      "text/plain": [
       "<Figure size 432x288 with 1 Axes>"
      ]
     },
     "metadata": {
      "needs_background": "light"
     },
     "output_type": "display_data"
    }
   ],
   "source": [
    "plt.plot(t, costs)"
   ]
  },
  {
   "cell_type": "code",
   "execution_count": 3,
   "metadata": {},
   "outputs": [
    {
     "data": {
      "text/plain": [
       "(10,)"
      ]
     },
     "execution_count": 3,
     "metadata": {},
     "output_type": "execute_result"
    }
   ],
   "source": [
    "np.zeros(10).shape"
   ]
  },
  {
   "cell_type": "markdown",
   "metadata": {},
   "source": [
    "# Some classification algorithms"
   ]
  },
  {
   "cell_type": "code",
   "execution_count": 17,
   "metadata": {},
   "outputs": [],
   "source": [
    "# Testing the code for the perceptron\n",
    "eta = 0.1\n",
    "n, d = X.shape\n",
    "w = np.zeros(d)\n",
    "\n",
    "n, d = X.shape\n",
    "w = np.zeros(d)\n",
    "w0 = 0.\n",
    "t = 0\n",
    "while t <= 100:\n",
    "    i = np.random.randint(n)\n",
    "    y_t = y[i] \n",
    "    X_t = X[i,:]\n",
    "    if (y_t * (np.dot(w,X_t.T) + w0)) <= 0:\n",
    "        w0 += eta*y_t\n",
    "        w += eta * y_t * X_t\n",
    "    else:\n",
    "        w = w\n",
    "    t +=1"
   ]
  },
  {
   "cell_type": "code",
   "execution_count": 11,
   "metadata": {},
   "outputs": [],
   "source": [
    "# Perceptron function\n",
    "def perceptron(X, y, eta=0.1, T=1000):\n",
    "    n, d = X.shape\n",
    "    w = np.zeros(d)\n",
    "    n, d = X.shape\n",
    "    w = np.zeros(d)\n",
    "    w0 = 0.\n",
    "    t = 0\n",
    "    while t <= T:\n",
    "        i = np.random.randint(n)\n",
    "        y_t = y[i] \n",
    "        X_t = X[i,:]\n",
    "        if (y_t * (np.dot(w,X_t.T) + w0)) <= 0:\n",
    "            w0 += eta*y_t\n",
    "            w += eta * y_t * X_t\n",
    "        else:\n",
    "            w = w\n",
    "            w0 = w0\n",
    "        t +=1\n",
    "    return w, w0"
   ]
  },
  {
   "cell_type": "code",
   "execution_count": 14,
   "metadata": {},
   "outputs": [],
   "source": [
    "w, w0 = perceptron(X, y)"
   ]
  },
  {
   "cell_type": "code",
   "execution_count": 32,
   "metadata": {},
   "outputs": [
    {
     "data": {
      "text/plain": [
       "2.9758433157400876"
      ]
     },
     "execution_count": 32,
     "metadata": {},
     "output_type": "execute_result"
    }
   ],
   "source": [
    "(y[5] * w @ X[5].T + w0) / np.linalg.norm(w)"
   ]
  },
  {
   "cell_type": "code",
   "execution_count": 40,
   "metadata": {},
   "outputs": [],
   "source": [
    "activation = lambda x: 1 if x >0 else 0"
   ]
  },
  {
   "cell_type": "code",
   "execution_count": 43,
   "metadata": {},
   "outputs": [
    {
     "data": {
      "text/plain": [
       "0"
      ]
     },
     "execution_count": 43,
     "metadata": {},
     "output_type": "execute_result"
    }
   ],
   "source": [
    "activation(-6)"
   ]
  },
  {
   "cell_type": "code",
   "execution_count": 6,
   "metadata": {},
   "outputs": [
    {
     "data": {
      "text/plain": [
       "array([0.1986317 , 0.31725294, 0.58070686, 0.11693641, 0.93201599,\n",
       "       0.58055408, 0.38162891, 0.20343095, 0.07359161, 0.91957794])"
      ]
     },
     "execution_count": 6,
     "metadata": {},
     "output_type": "execute_result"
    }
   ],
   "source": [
    "np.random.random(10)"
   ]
  },
  {
   "cell_type": "code",
   "execution_count": 46,
   "metadata": {},
   "outputs": [],
   "source": [
    "# Trying to make the adaline algorithm\n",
    "def adaline(X, y, eta=0.1, T=1000):\n",
    "    n, d = X.shape\n",
    "    w = np.random.random(d)\n",
    "    w0 = 0\n",
    "    t = 0\n",
    "    h = 0\n",
    "    while t <= T:\n",
    "        i = np.random.randint(n)\n",
    "        yt = y[i]\n",
    "        Xt = X[i,:]\n",
    "        h = w0 + np.dot(w,Xt.T)\n",
    "        h = activation(h)\n",
    "        w0 += eta*(yt - h)\n",
    "        w += eta * (yt - h) * Xt\n",
    "        t += 1\n",
    "    return w, w0\n",
    "    "
   ]
  },
  {
   "cell_type": "code",
   "execution_count": 47,
   "metadata": {},
   "outputs": [
    {
     "data": {
      "text/plain": [
       "(array([-1.06036228e-02,  4.03209240e-01, -2.79639867e-01, -9.91285892e-02,\n",
       "         7.02710903e-02,  2.39968690e-01,  4.07756888e-02,  8.29421271e-01,\n",
       "        -2.38973969e-01, -4.81040723e-01,  7.28099200e-01,  2.62684751e+00,\n",
       "        -4.60356297e-01,  5.73880187e-01,  3.23100450e-01, -3.69506806e-01,\n",
       "        -1.54382186e-01,  4.95485556e-01,  2.87166692e-01, -2.50065139e-01,\n",
       "        -1.01653944e-01,  1.44675325e-02, -1.06761257e-01,  2.16266490e-01,\n",
       "        -1.79380644e-03]), -0.4)"
      ]
     },
     "execution_count": 47,
     "metadata": {},
     "output_type": "execute_result"
    }
   ],
   "source": [
    "adaline(X, y, T=1000)"
   ]
  },
  {
   "cell_type": "code",
   "execution_count": null,
   "metadata": {},
   "outputs": [],
   "source": []
  }
 ],
 "metadata": {
  "kernelspec": {
   "display_name": "Python 3",
   "language": "python",
   "name": "python3"
  },
  "language_info": {
   "codemirror_mode": {
    "name": "ipython",
    "version": 3
   },
   "file_extension": ".py",
   "mimetype": "text/x-python",
   "name": "python",
   "nbconvert_exporter": "python",
   "pygments_lexer": "ipython3",
   "version": "3.6.8"
  }
 },
 "nbformat": 4,
 "nbformat_minor": 2
}
