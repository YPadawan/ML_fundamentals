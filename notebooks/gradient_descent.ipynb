{
 "cells": [
  {
   "cell_type": "code",
   "execution_count": 6,
   "metadata": {},
   "outputs": [],
   "source": [
    "import numpy as np\n",
    "import matplotlib.pyplot as plt"
   ]
  },
  {
   "cell_type": "markdown",
   "metadata": {},
   "source": [
    "# Gradient descent\n",
    "\n",
    "## Analytical gradient descent"
   ]
  },
  {
   "cell_type": "code",
   "execution_count": 7,
   "metadata": {},
   "outputs": [],
   "source": [
    "def gradient_descent(x0, f, g, learning_rate=0.05, T=1000):\n",
    "    \"\"\"\n",
    "    X: array of values\n",
    "    f: function to apply\n",
    "    g: gradient of the function\n",
    "    learning_rate: Learning rate for each step\n",
    "    T: number of iteration\n",
    "    \"\"\"\n",
    "    x = x0\n",
    "    t = 0\n",
    "    while t <= T:\n",
    "        x -= learning_rate * g(x)\n",
    "        t +=1\n",
    "    return x"
   ]
  },
  {
   "cell_type": "code",
   "execution_count": 8,
   "metadata": {},
   "outputs": [],
   "source": [
    "def test_function(x):\n",
    "    return 3*(x**2) + 4*x + 1"
   ]
  },
  {
   "cell_type": "code",
   "execution_count": 9,
   "metadata": {},
   "outputs": [],
   "source": [
    "def test_function_gradient(x):\n",
    "    return 6*x + 4"
   ]
  },
  {
   "cell_type": "code",
   "execution_count": 10,
   "metadata": {},
   "outputs": [],
   "source": [
    "X = np.random.rand(10)"
   ]
  },
  {
   "cell_type": "code",
   "execution_count": 11,
   "metadata": {},
   "outputs": [
    {
     "data": {
      "text/plain": [
       "-0.6666666666666665"
      ]
     },
     "execution_count": 11,
     "metadata": {},
     "output_type": "execute_result"
    }
   ],
   "source": [
    "gradient_descent(10, test_function, test_function_gradient)"
   ]
  },
  {
   "cell_type": "code",
   "execution_count": 12,
   "metadata": {},
   "outputs": [
    {
     "data": {
      "text/plain": [
       "array([0.36961263, 0.39049903, 0.56103978, 0.58544124, 0.84428874,\n",
       "       0.3250809 , 0.65846291, 0.86540455, 0.41428863, 0.78735864])"
      ]
     },
     "execution_count": 12,
     "metadata": {},
     "output_type": "execute_result"
    }
   ],
   "source": [
    "X"
   ]
  },
  {
   "cell_type": "code",
   "execution_count": 16,
   "metadata": {},
   "outputs": [
    {
     "data": {
      "text/plain": [
       "-0.6666666666666665"
      ]
     },
     "execution_count": 16,
     "metadata": {},
     "output_type": "execute_result"
    }
   ],
   "source": [
    "gradient_descent(100, test_function, test_function_gradient)"
   ]
  },
  {
   "cell_type": "markdown",
   "metadata": {},
   "source": [
    "## Numerical gradient descent"
   ]
  },
  {
   "cell_type": "code",
   "execution_count": 18,
   "metadata": {},
   "outputs": [],
   "source": [
    "def numerical_gradient_descent(x0,f,dx,learning_rate=0.05, T=1000):\n",
    "    x = x0\n",
    "    t = 0\n",
    "    while t <= T:\n",
    "        x -= learning_rate * (f(x + dx) - f(x)) / dx\n",
    "        t+=1\n",
    "    return x"
   ]
  },
  {
   "cell_type": "code",
   "execution_count": 19,
   "metadata": {},
   "outputs": [
    {
     "data": {
      "text/plain": [
       "-0.6716666666666643"
      ]
     },
     "execution_count": 19,
     "metadata": {},
     "output_type": "execute_result"
    }
   ],
   "source": [
    "numerical_gradient_descent(10, test_function, dx=0.01)"
   ]
  },
  {
   "cell_type": "markdown",
   "metadata": {},
   "source": [
    "# Stochastic Gradient Descent"
   ]
  },
  {
   "cell_type": "code",
   "execution_count": 11,
   "metadata": {},
   "outputs": [],
   "source": [
    "def logistic_cost(ytrue, yhat):\n",
    "    return np.log(1 + np.exp(-ytrue*yhat))\n",
    "\n",
    "# Use rosenbrock's function to test gradient descent"
   ]
  },
  {
   "cell_type": "code",
   "execution_count": 1,
   "metadata": {},
   "outputs": [],
   "source": [
    "# Improved version of october 8th \n",
    "def stochastic_gradient_descent(X, ytrue, T=1000, epsilon=0.1, learning_rate=0.5): \n",
    "    nrow = len(ytrue)\n",
    "    w = np.zeros(X.shape[1])  # initialisation du vecteur w avec les w_i = 0\n",
    "    t = 0\n",
    "    m = len(ytrue)\n",
    "    \n",
    "    cost = np.inf\n",
    "    costs = []\n",
    "    w_list = []\n",
    "\n",
    "    while (np.linalg.norm(np.gradient(cost)) > epsilon) or (t <= T):\n",
    "        i = np.random.randint(nrow)\n",
    "        y_t = ytrue[i] \n",
    "        X_t = X[i,:]\n",
    "        prediction = np.dot(X_t.T, w)\n",
    "        cost = np.sum(quadratic_cost(prediction, y_t))\n",
    "        costs.append(cost)\n",
    "        w_list.append(w)\n",
    "        w = w - learning_rate * (1/m * X_t.T.dot(prediction - y_t))\n",
    "        \n",
    "        t += 1 \n",
    "    return w, costs "
   ]
  },
  {
   "cell_type": "code",
   "execution_count": 38,
   "metadata": {},
   "outputs": [],
   "source": [
    "from sklearn.datasets import make_classification\n",
    "X, y = make_classification(n_samples=100, n_features=5)"
   ]
  },
  {
   "cell_type": "code",
   "execution_count": 18,
   "metadata": {},
   "outputs": [],
   "source": [
    "t = np.array([i for i in range(1001)])"
   ]
  },
  {
   "cell_type": "code",
   "execution_count": 19,
   "metadata": {},
   "outputs": [
    {
     "data": {
      "text/plain": [
       "(1001,)"
      ]
     },
     "execution_count": 19,
     "metadata": {},
     "output_type": "execute_result"
    }
   ],
   "source": [
    "t.shape"
   ]
  }
 ],
 "metadata": {
  "kernelspec": {
   "display_name": "Python 3",
   "language": "python",
   "name": "python3"
  },
  "language_info": {
   "codemirror_mode": {
    "name": "ipython",
    "version": 3
   },
   "file_extension": ".py",
   "mimetype": "text/x-python",
   "name": "python",
   "nbconvert_exporter": "python",
   "pygments_lexer": "ipython3",
   "version": "3.7.5"
  }
 },
 "nbformat": 4,
 "nbformat_minor": 2
}
