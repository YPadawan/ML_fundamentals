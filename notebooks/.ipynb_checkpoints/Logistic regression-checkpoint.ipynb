{
 "cells": [
  {
   "cell_type": "code",
   "execution_count": 5,
   "metadata": {},
   "outputs": [],
   "source": [
    "import numpy as np"
   ]
  },
  {
   "cell_type": "code",
   "execution_count": 6,
   "metadata": {},
   "outputs": [],
   "source": [
    "def logistic(x):\n",
    "    return (1.0 / (1.0 + np.exp(-x)))"
   ]
  },
  {
   "cell_type": "code",
   "execution_count": 142,
   "metadata": {},
   "outputs": [],
   "source": [
    "def GradientLogisticSurrogateLoss0(X, y):\n",
    "    n, d = X.shape\n",
    "    w0 = 0.\n",
    "    w = np.random.random(d)\n",
    "\n",
    "    g0 = 0.\n",
    "    g = np.zeros(d)\n",
    "    ps = w0\n",
    "    for i in range(n):\n",
    "        for j in range(d):\n",
    "            ps+=w[j] * X[i, j]\n",
    "        g0 += (logistic(y[i]*ps)-1.0)*y[i]\n",
    "        for j in range(d):\n",
    "            g[j] += (logistic(y[i]*ps)-1.0)*y[i]*X[i, j]\n",
    "    g/=n\n",
    "    return g\n",
    "    "
   ]
  },
  {
   "cell_type": "code",
   "execution_count": 143,
   "metadata": {},
   "outputs": [],
   "source": [
    "from sklearn.datasets import make_classification\n",
    "X, y = make_classification(n_samples=100, n_features=10)"
   ]
  },
  {
   "cell_type": "code",
   "execution_count": 144,
   "metadata": {},
   "outputs": [
    {
     "data": {
      "text/plain": [
       "array([ 0.03682867,  0.02101688,  0.02915964,  0.03551226, -0.069774  ,\n",
       "       -0.01219663, -0.01050825,  0.00209623, -0.02498381, -0.01664432])"
      ]
     },
     "execution_count": 144,
     "metadata": {},
     "output_type": "execute_result"
    }
   ],
   "source": [
    "GradientLogisticSurrogateLoss0(X, y)"
   ]
  },
  {
   "cell_type": "code",
   "execution_count": 91,
   "metadata": {},
   "outputs": [],
   "source": [
    "n, d = X.shape\n",
    "w0 = 0.\n",
    "w = np.random.random(d)\n",
    "\n",
    "g0 = 0.\n",
    "g = np.zeros(d)\n",
    "ps = w0\n",
    "for i in range(n):\n",
    "    for j in range(d):\n",
    "        ps+=w[j] * X[i, j]\n",
    "    g0 += (logistic(y[i]*ps)-1.0)*y[i]\n",
    "    for j in range(d):\n",
    "        g[j] += (logistic(y[i]*ps)-1.0)*y[i]*X[i, j]\n",
    "g/=n\n"
   ]
  },
  {
   "cell_type": "code",
   "execution_count": 92,
   "metadata": {},
   "outputs": [
    {
     "data": {
      "text/plain": [
       "array([-0.00254867,  0.01476864,  0.01523271,  0.00892982,  0.02342416,\n",
       "        0.00858157, -0.04256896,  0.00468122,  0.00950882, -0.00435682])"
      ]
     },
     "execution_count": 92,
     "metadata": {},
     "output_type": "execute_result"
    }
   ],
   "source": [
    "g"
   ]
  },
  {
   "cell_type": "code",
   "execution_count": 27,
   "metadata": {},
   "outputs": [
    {
     "data": {
      "text/plain": [
       "22.281618169632527"
      ]
     },
     "execution_count": 27,
     "metadata": {},
     "output_type": "execute_result"
    }
   ],
   "source": [
    "ps"
   ]
  },
  {
   "cell_type": "code",
   "execution_count": 26,
   "metadata": {},
   "outputs": [
    {
     "data": {
      "text/plain": [
       "22.281618169632537"
      ]
     },
     "execution_count": 26,
     "metadata": {},
     "output_type": "execute_result"
    }
   ],
   "source": [
    "np.dot(w, X.T).sum()"
   ]
  },
  {
   "cell_type": "code",
   "execution_count": 30,
   "metadata": {},
   "outputs": [
    {
     "data": {
      "text/plain": [
       "-1.073460853540098e-08"
      ]
     },
     "execution_count": 30,
     "metadata": {},
     "output_type": "execute_result"
    }
   ],
   "source": [
    "((logistic(y * ps) - 1.0)*y).sum()"
   ]
  },
  {
   "cell_type": "code",
   "execution_count": 34,
   "metadata": {},
   "outputs": [
    {
     "data": {
      "text/plain": [
       "-1.073460853540098e-08"
      ]
     },
     "execution_count": 34,
     "metadata": {},
     "output_type": "execute_result"
    }
   ],
   "source": [
    "np.sum(list(map(lambda x: (logistic(x * ps)-1.0)*x, y)))"
   ]
  },
  {
   "cell_type": "code",
   "execution_count": 41,
   "metadata": {},
   "outputs": [],
   "source": [
    "test np.dot(y, ps)-1.0"
   ]
  },
  {
   "cell_type": "code",
   "execution_count": 59,
   "metadata": {},
   "outputs": [
    {
     "data": {
      "text/plain": [
       "-118.07262386747509"
      ]
     },
     "execution_count": 59,
     "metadata": {},
     "output_type": "execute_result"
    }
   ],
   "source": [
    "(logistic(y)*ps - 1.0)"
   ]
  },
  {
   "cell_type": "code",
   "execution_count": 60,
   "metadata": {},
   "outputs": [
    {
     "data": {
      "text/plain": [
       "-0.8580230137836098"
      ]
     },
     "execution_count": 60,
     "metadata": {},
     "output_type": "execute_result"
    }
   ],
   "source": [
    "logistic(y[0]*ps)-1.0*y[0]"
   ]
  },
  {
   "cell_type": "code",
   "execution_count": 82,
   "metadata": {},
   "outputs": [
    {
     "data": {
      "text/plain": [
       "-43.75917370296409"
      ]
     },
     "execution_count": 82,
     "metadata": {},
     "output_type": "execute_result"
    }
   ],
   "source": [
    "np.sum((logistic(y*ps)-1.0)*y)"
   ]
  },
  {
   "cell_type": "code",
   "execution_count": 81,
   "metadata": {
    "scrolled": true
   },
   "outputs": [
    {
     "name": "stdout",
     "output_type": "stream",
     "text": [
      "-43.759173702964056\n"
     ]
    }
   ],
   "source": [
    "g0 = 0.\n",
    "for i in range(n):\n",
    "    g0 += (logistic(y[i]*ps)-1.0)*y[i]\n",
    "print(g0)"
   ]
  },
  {
   "cell_type": "code",
   "execution_count": 71,
   "metadata": {},
   "outputs": [
    {
     "data": {
      "text/plain": [
       "-43.759173702964056"
      ]
     },
     "execution_count": 71,
     "metadata": {},
     "output_type": "execute_result"
    }
   ],
   "source": [
    "g0"
   ]
  },
  {
   "cell_type": "code",
   "execution_count": 129,
   "metadata": {},
   "outputs": [],
   "source": [
    "g = np.zeros(d)\n",
    "for i in range(n):\n",
    "    for j in range(d):\n",
    "        g[j] += (logistic(y[i]*ps)-1.0)*y[i]*X[i, j]"
   ]
  },
  {
   "cell_type": "code",
   "execution_count": 130,
   "metadata": {},
   "outputs": [
    {
     "data": {
      "text/plain": [
       "array([ 1.12145268e-06, -1.11022231e-06,  2.47625631e-06,  1.31534448e-06,\n",
       "        1.85367841e-06, -5.66040998e-07, -6.47950421e-06, -2.57208833e-08,\n",
       "        1.03205161e-06, -9.27173845e-07])"
      ]
     },
     "execution_count": 130,
     "metadata": {},
     "output_type": "execute_result"
    }
   ],
   "source": [
    "g/n"
   ]
  },
  {
   "cell_type": "code",
   "execution_count": 117,
   "metadata": {},
   "outputs": [
    {
     "data": {
      "text/plain": [
       "array([ 0.03338353, -0.03304923,  0.07371349,  0.03915533,  0.05518051,\n",
       "       -0.01684997, -0.19288263, -0.00076566,  0.03072223, -0.02760022])"
      ]
     },
     "execution_count": 117,
     "metadata": {},
     "output_type": "execute_result"
    }
   ],
   "source": [
    "(((logistic(y*ps) - 1.0)*y) @ X)/n"
   ]
  },
  {
   "cell_type": "code",
   "execution_count": 157,
   "metadata": {
    "scrolled": true
   },
   "outputs": [],
   "source": [
    "#TODO: Add weight vector as an argument to GradientLogisticSurrogateLoss and take into cosnideration the w0 case\n",
    "#TODO: \n",
    "def GradientLogisticSurrogateLoss(X, y):\n",
    "    \"\"\"Computes the gradient logistic surrogate loss\n",
    "    Parameters\n",
    "    ----------\n",
    "    \n",
    "    X: {array like, sparse matrix}, shape (n_samples, n_features)\n",
    "       Samples\n",
    "    y: array, shape (n_samples)\n",
    "       True labels\n",
    "    w: array, shape (n_features)\n",
    "       \n",
    "    Returns\n",
    "    -------\n",
    "    Surrogate loss gradient vector\n",
    "    \"\"\"\n",
    "    n, d = X.shape\n",
    "    w0 = 0.\n",
    "    w = np.random.random(d)\n",
    "    g = np.zeros(d)\n",
    "    ps = np.dot(w, X.T).sum()\n",
    "    g0 = np.sum((logistic(y*ps)-1.0)*y)\n",
    "    g += ((logistic(y*ps) - 1.0)*y) @ X\n",
    "    g /= n\n",
    "    return g"
   ]
  },
  {
   "cell_type": "code",
   "execution_count": 158,
   "metadata": {},
   "outputs": [
    {
     "data": {
      "text/plain": [
       "array([ 1.12145268e-04, -1.11022231e-04,  2.47625631e-04,  1.31534448e-04,\n",
       "        1.85367841e-04, -5.66040998e-05, -6.47950421e-04, -2.57208833e-06,\n",
       "        1.03205161e-04, -9.27173845e-05])"
      ]
     },
     "execution_count": 158,
     "metadata": {},
     "output_type": "execute_result"
    }
   ],
   "source": [
    "g"
   ]
  },
  {
   "cell_type": "code",
   "execution_count": 159,
   "metadata": {},
   "outputs": [
    {
     "data": {
      "text/plain": [
       "array([-4.52737015e-07,  7.69958967e-07, -2.54075500e-06,  2.31380840e-06,\n",
       "       -2.05979097e-05,  1.32437392e-06, -8.08784373e-06,  5.92098941e-06,\n",
       "       -9.63457015e-07, -4.55798612e-06])"
      ]
     },
     "execution_count": 159,
     "metadata": {},
     "output_type": "execute_result"
    }
   ],
   "source": [
    "GradientSurrogateLoss(X, y)"
   ]
  },
  {
   "cell_type": "code",
   "execution_count": 165,
   "metadata": {},
   "outputs": [],
   "source": [
    "def LogisticSurrogateLoss(X, y, w):\n",
    "    \"\"\"Computes the Logistic surrogate loss. Will be used for Logistic Regression\n",
    "    Parameters\n",
    "    ----------\n",
    "    \n",
    "    X: Array, shape (n_samples, n_features)\n",
    "       Samples...\n",
    "    y: array, shape (n_samples)\n",
    "       True labels\n",
    "    w: array shape (n_features,)\n",
    "       Weight vector\n",
    "       \n",
    "    Returns\n",
    "    -------\n",
    "    Float, logistic SurrogateLoss value\n",
    "    \"\"\"\n",
    "    ps = np.dot(w, X.T).sum()\n",
    "    S = (np.log(1.0 + np.exp(-y * ps))).sum()\n",
    "    S /= n\n",
    "    return S"
   ]
  },
  {
   "cell_type": "code",
   "execution_count": 166,
   "metadata": {},
   "outputs": [
    {
     "data": {
      "text/plain": [
       "0.541345760608077"
      ]
     },
     "execution_count": 166,
     "metadata": {},
     "output_type": "execute_result"
    }
   ],
   "source": [
    "w = np.random.random(X.shape[1])\n",
    "LogisticSurrogateLoss(X, y, w)"
   ]
  },
  {
   "cell_type": "code",
   "execution_count": null,
   "metadata": {},
   "outputs": [],
   "source": []
  }
 ],
 "metadata": {
  "kernelspec": {
   "display_name": "Python 3",
   "language": "python",
   "name": "python3"
  },
  "language_info": {
   "codemirror_mode": {
    "name": "ipython",
    "version": 3
   },
   "file_extension": ".py",
   "mimetype": "text/x-python",
   "name": "python",
   "nbconvert_exporter": "python",
   "pygments_lexer": "ipython3",
   "version": "3.6.8"
  }
 },
 "nbformat": 4,
 "nbformat_minor": 2
}
