{
 "cells": [
  {
   "cell_type": "code",
   "execution_count": 1,
   "metadata": {},
   "outputs": [],
   "source": [
    "%load_ext autoreload\n",
    "%autoreload 2\n",
    "import sys"
   ]
  },
  {
   "cell_type": "code",
   "execution_count": 2,
   "metadata": {},
   "outputs": [],
   "source": [
    "sys.path.append('/home/iaamini/Documents/ML_practice/ML_fundamentals/ML_fundamentals/algorithms/')"
   ]
  },
  {
   "cell_type": "code",
   "execution_count": 3,
   "metadata": {},
   "outputs": [],
   "source": [
    "import numpy as np\n",
    "import matplotlib.pyplot as plt\n",
    "import logistic_regression as lg\n",
    "import optimizers as opt"
   ]
  },
  {
   "cell_type": "code",
   "execution_count": 4,
   "metadata": {},
   "outputs": [],
   "source": [
    "from sklearn.datasets import make_classification\n",
    "X, y = make_classification(n_samples=100, n_features=10)"
   ]
  },
  {
   "cell_type": "code",
   "execution_count": 5,
   "metadata": {},
   "outputs": [],
   "source": [
    "w = np.random.random(X.shape[1]+1)"
   ]
  },
  {
   "cell_type": "code",
   "execution_count": 6,
   "metadata": {},
   "outputs": [
    {
     "data": {
      "text/plain": [
       "-11.04557281469366"
      ]
     },
     "execution_count": 6,
     "metadata": {},
     "output_type": "execute_result"
    }
   ],
   "source": [
    "np.dot(X, w[:X.shape[1]]).sum()"
   ]
  },
  {
   "cell_type": "markdown",
   "metadata": {},
   "source": [
    "# La régression logistique\n",
    "\n",
    "- Méthode introduite par les statisticiens vers la fin des années 60 et popularisée par Andersen (1982).\n",
    "- Permet de s'affranchir des hypothèses restrictives associées aux méthode linéaires paramétriques.\n",
    "- Hypothèse:\n",
    "    - Logarithme des rapports de probabilités conditionnelles des classes pour une entrée $x$ est linéaire par rapport à $x$.\n",
    "\n",
    "$$\\ln{\\Big(\\frac{\\mathbb{P}(X =x | Y = 1)}{\\mathbb{P}(X = x | Y = -1)}\\Big)} = w_0 + \\langle \\bar{w}, x \\rangle$$\n",
    "\n",
    "\n",
    "- La probabilité à posteriori:\n",
    "\n",
    "$$\\mathbb{P}(Y = 1 | X = x) = \\frac{1}{1 + e^{-(\\tilde{w} + \\langle \\bar{w}, x \\rangle)}}$$\n",
    "\n",
    "Ci-dessous se trouve la fonction permettant de calculer l'équation ci-dessus."
   ]
  },
  {
   "cell_type": "markdown",
   "metadata": {},
   "source": [
    "# Lien avec le principe MRE\n",
    "## Gradient de la fonction de coût\n",
    "\n",
    "### Fonction de coût:\n",
    "\n",
    "$$ \\hat{\\mathcal{L}}(\\textbf{w}) = \\frac{1}{m}\\sum_{t=1}^{m}\\ln{(1 + e^{-yh_w(x_i)})}$$\n",
    "\n"
   ]
  },
  {
   "cell_type": "markdown",
   "metadata": {},
   "source": [
    "### Le gradient de la fonction:\n",
    "\n",
    "$$ \\nabla \\hat{\\mathcal{L}}(\\textbf{w}) = \\frac{1}{m}\\sum_{t=1}^{m}y_i \\Big(1 - \\frac{1}{1 + e^{-y_ih_w(x_i)}}\\Big) \\times x_i $$\n",
    "\n",
    "- Pour l'apprentissage des paramètres du modèle de la régression logistique en utilisant la méthode du gradient conjugué  pour minimser "
   ]
  },
  {
   "cell_type": "code",
   "execution_count": 7,
   "metadata": {},
   "outputs": [
    {
     "data": {
      "text/plain": [
       "array([0.83803556, 0.61304288, 0.36449785, 0.98910345, 0.35957944,\n",
       "       0.53492331, 0.98187581, 0.88796381, 0.46098999, 0.72529755,\n",
       "       0.7147501 ])"
      ]
     },
     "execution_count": 7,
     "metadata": {},
     "output_type": "execute_result"
    }
   ],
   "source": [
    "w"
   ]
  },
  {
   "cell_type": "code",
   "execution_count": 8,
   "metadata": {},
   "outputs": [
    {
     "data": {
      "text/plain": [
       "array([  3.26578496, -56.46922877,   6.70250958,  34.3637157 ,\n",
       "       -16.71997027,   5.65836299,   4.6437897 ,  -5.20795306,\n",
       "         1.94802187, -26.01408182, -49.99999999])"
      ]
     },
     "execution_count": 8,
     "metadata": {},
     "output_type": "execute_result"
    }
   ],
   "source": [
    "w0 = 2\n",
    "# w = np.random.random(d)\n",
    "lg.gradient_logistic_surrogate_loss(X, y, w)"
   ]
  },
  {
   "cell_type": "code",
   "execution_count": 9,
   "metadata": {},
   "outputs": [
    {
     "data": {
      "text/plain": [
       "array([  3.26578496, -56.46922877,   6.70250958,  34.3637157 ,\n",
       "       -16.71997027,   5.65836299,   4.6437897 ,  -5.20795306,\n",
       "         1.94802187, -26.01408182, -49.99999999])"
      ]
     },
     "execution_count": 9,
     "metadata": {},
     "output_type": "execute_result"
    }
   ],
   "source": [
    "w0 = 2\n",
    "# w = np.random.random(d)\n",
    "lg.gradient_logistic_surrogate_loss(X, y, w)"
   ]
  },
  {
   "cell_type": "code",
   "execution_count": 10,
   "metadata": {},
   "outputs": [],
   "source": [
    "w = np.random.random(X.shape[1]+1)\n",
    "Lold = lg.logistic_surrogate_loss(X, y, w)"
   ]
  },
  {
   "cell_type": "code",
   "execution_count": 11,
   "metadata": {},
   "outputs": [
    {
     "data": {
      "text/plain": [
       "0.25000000000011413"
      ]
     },
     "execution_count": 11,
     "metadata": {},
     "output_type": "execute_result"
    }
   ],
   "source": [
    "Lold"
   ]
  },
  {
   "cell_type": "code",
   "execution_count": 12,
   "metadata": {},
   "outputs": [],
   "source": [
    "n, d = X.shape"
   ]
  },
  {
   "cell_type": "code",
   "execution_count": 13,
   "metadata": {},
   "outputs": [
    {
     "data": {
      "text/plain": [
       "[<matplotlib.lines.Line2D at 0x7f5588818668>]"
      ]
     },
     "execution_count": 13,
     "metadata": {},
     "output_type": "execute_result"
    },
    {
     "data": {
      "image/png": "[encoded data removed]",
      "text/plain": [
       "<Figure size 432x288 with 1 Axes>"
      ]
     },
     "metadata": {
      "needs_background": "light"
     },
     "output_type": "display_data"
    }
   ],
   "source": [
    "x_test = np.linspace(-100, 100, 101)\n",
    "plt.plot(x_test, lg.logistic(x_test))\n",
    "plt.plot(x_test, lg.stable_logistic(x_test))"
   ]
  },
  {
   "cell_type": "code",
   "execution_count": 14,
   "metadata": {},
   "outputs": [
    {
     "data": {
      "text/plain": [
       "0.0"
      ]
     },
     "execution_count": 14,
     "metadata": {},
     "output_type": "execute_result"
    }
   ],
   "source": [
    "np.log(1/(1+np.exp(-100)))"
   ]
  },
  {
   "cell_type": "markdown",
   "metadata": {},
   "source": [
    "# Apprentissage des paramètres du modèle\n",
    "\n",
    "La régression linéaire utilise la méthode du gradient conjugué afin de minimiser la fonction de coût.\n",
    "\n",
    "Le gradient conjugué utilise lui-même une recherche linéaire afin de trouver le pas d'apprentissage optimal.\n",
    "Un brève présentation de l'algorithme de recherche linéaire s'impose donc.\n",
    "\n",
    "## recherche linéaire\n",
    "\n",
    "On cherche une valeur maximale admissible du pas d'apprentissage en allant selon un direction de descente $p_t$ (vérifiant $p_t^T\\nabla\\mathcal{L}(w)$.\n",
    "On suit toujours un règle de mise à jour avec la condition de décroissance de la fonction de coût.\n",
    "$$\\forall{t} \\in \\mathbb{N}, \\hat{\\mathcal{L}}(w^{(t+1)}) < \\hat{\\mathcal{L}}(w^{(t)}) $$\n",
    "\n",
    "L'algorithme de recherche linéaire consiste à vérifier des conditions que l'on appelle *conditions de Wolfe*.\n",
    "\n",
    "### Condition d'Armijo\n",
    "\n",
    "Permet de répondre aux deux situations où l'équation ci-dessus peut être satisfaite sans pour autant atteindre le minimiseur de $\\mathcal{L}$.\n",
    "\n",
    "$$\\forall{t} \\in \\mathbb{N}, \\hat{\\mathcal{L}}(w^{(t)} + \\eta_tp_t) \\leq \\hat{\\mathcal{L}}(w_t) + \\alpha\\eta_tp_t^{T}\\nabla\\hat{\\mathcal{L}}(w_t)$$\n",
    "\n",
    "la contrainte de décroissance linéaire implique que le taux de décroissance allant $\\hat{\\mathcal{L}}(w^t)$ à $\\hat{\\mathcal{L}}(w^{t+1})$ ne doit pas être plus grand que la descente pondéré par un coefficient alpha.\n",
    "\n",
    "### Condition de courbure\n",
    "\n",
    "Cette condition implique que la descente lors de l'itération suivante soit au moins égale à une fraction $\\beta \\in (\\alpha, 1)$. Donc:\n",
    "$$ \\forall{t} \\in \\mathbb{N}, p^T_t\\nabla\\hat{\\mathcal{L}}(w^{(t)} + \\eta_tp_t) \\geq \\beta p^T_t\\nabla\\hat{\\mathcal{L}}(w^{(t)})$$"
   ]
  },
  {
   "cell_type": "code",
   "execution_count": 15,
   "metadata": {},
   "outputs": [],
   "source": [
    "q = np.arange(10)\n",
    "p = q + 1"
   ]
  },
  {
   "cell_type": "code",
   "execution_count": 16,
   "metadata": {},
   "outputs": [],
   "source": [
    "p[1] = 100"
   ]
  },
  {
   "cell_type": "code",
   "execution_count": 17,
   "metadata": {},
   "outputs": [
    {
     "data": {
      "text/plain": [
       "array([0, 1, 2, 3, 4, 5, 6, 7, 8, 9])"
      ]
     },
     "execution_count": 17,
     "metadata": {},
     "output_type": "execute_result"
    }
   ],
   "source": [
    "q"
   ]
  },
  {
   "cell_type": "code",
   "execution_count": 18,
   "metadata": {},
   "outputs": [],
   "source": [
    "g = lg.gradient_logistic_surrogate_loss(X, y, w)"
   ]
  },
  {
   "cell_type": "code",
   "execution_count": 19,
   "metadata": {},
   "outputs": [],
   "source": [
    "p = -g"
   ]
  },
  {
   "cell_type": "code",
   "execution_count": 20,
   "metadata": {},
   "outputs": [],
   "source": [
    "eta = 0.2\n",
    "eta2 = 1\n",
    "a = np.array([[1/eta**2, 1/eta2**2], [-eta2/eta, eta/eta2]])\n",
    "z = np.array([1-2-6, 3-4-1]).reshape(2, 1)"
   ]
  },
  {
   "cell_type": "code",
   "execution_count": 21,
   "metadata": {},
   "outputs": [
    {
     "data": {
      "text/plain": [
       "array([-7, -2])"
      ]
     },
     "execution_count": 21,
     "metadata": {},
     "output_type": "execute_result"
    }
   ],
   "source": [
    "z.ravel()"
   ]
  },
  {
   "cell_type": "code",
   "execution_count": 22,
   "metadata": {},
   "outputs": [
    {
     "data": {
      "text/plain": [
       "-176.99999999999997"
      ]
     },
     "execution_count": 22,
     "metadata": {},
     "output_type": "execute_result"
    }
   ],
   "source": [
    "(a @ z).reshape(1, -1)[0][0]"
   ]
  },
  {
   "cell_type": "code",
   "execution_count": 23,
   "metadata": {},
   "outputs": [],
   "source": [
    "ab = 1/(eta-eta2) * np.dot(a,z)"
   ]
  },
  {
   "cell_type": "code",
   "execution_count": 24,
   "metadata": {},
   "outputs": [],
   "source": [
    "ab = ab.reshape(1, -1)"
   ]
  },
  {
   "cell_type": "code",
   "execution_count": 25,
   "metadata": {},
   "outputs": [],
   "source": [
    "a, b = ab[0][0], ab[0][1]"
   ]
  },
  {
   "cell_type": "code",
   "execution_count": 26,
   "metadata": {},
   "outputs": [
    {
     "data": {
      "text/plain": [
       "()"
      ]
     },
     "execution_count": 26,
     "metadata": {},
     "output_type": "execute_result"
    }
   ],
   "source": [
    "a.shape"
   ]
  },
  {
   "cell_type": "code",
   "execution_count": 27,
   "metadata": {},
   "outputs": [
    {
     "data": {
      "text/plain": [
       "(11,)"
      ]
     },
     "execution_count": 27,
     "metadata": {},
     "output_type": "execute_result"
    }
   ],
   "source": [
    "p.shape"
   ]
  },
  {
   "cell_type": "code",
   "execution_count": 24,
   "metadata": {},
   "outputs": [],
   "source": [
    "w1 = np.random.random(d+1)\n",
    "w2 = np.random.random(d+1)"
   ]
  },
  {
   "cell_type": "code",
   "execution_count": 25,
   "metadata": {},
   "outputs": [
    {
     "data": {
      "text/plain": [
       "array([0.34904512, 0.16932186, 0.13374972, 0.81801601, 0.79385639,\n",
       "       0.64817946, 0.93864967, 0.31621847, 0.29473971, 0.43414522,\n",
       "       0.00516014])"
      ]
     },
     "execution_count": 25,
     "metadata": {},
     "output_type": "execute_result"
    }
   ],
   "source": [
    "w2"
   ]
  },
  {
   "cell_type": "code",
   "execution_count": 26,
   "metadata": {},
   "outputs": [
    {
     "data": {
      "text/plain": [
       "0.25031353500134523"
      ]
     },
     "execution_count": 26,
     "metadata": {},
     "output_type": "execute_result"
    }
   ],
   "source": [
    "lg.logistic_surrogate_loss(X, y, w2)"
   ]
  },
  {
   "cell_type": "code",
   "execution_count": 27,
   "metadata": {},
   "outputs": [],
   "source": [
    "loss = lg.logistic_surrogate_loss(X, y, w2)"
   ]
  },
  {
   "cell_type": "code",
   "execution_count": 28,
   "metadata": {
    "scrolled": true
   },
   "outputs": [
    {
     "name": "stdout",
     "output_type": "stream",
     "text": [
      "> /home/iaamini/Documents/ML_practice/ML_fundamentals/ML_fundamentals/algorithms/optimizers.py(36)line_search()\n",
      "-> alpha = 1e-4\n",
      "(Pdb) n\n",
      "> /home/iaamini/Documents/ML_practice/ML_fundamentals/ML_fundamentals/algorithms/optimizers.py(37)line_search()\n",
      "-> min_eta = 1e-7\n",
      "(Pdb) n\n",
      "> /home/iaamini/Documents/ML_practice/ML_fundamentals/ML_fundamentals/algorithms/optimizers.py(39)line_search()\n",
      "-> n, d = X.shape\n",
      "(Pdb) n\n",
      "> /home/iaamini/Documents/ML_practice/ML_fundamentals/ML_fundamentals/algorithms/optimizers.py(42)line_search()\n",
      "-> pente = p @ g\n",
      "(Pdb) n\n",
      "ValueError: matmul: Input operand 1 has a mismatch in its core dimension 0, with gufunc signature (n?,k),(k,m?)->(n?,m?) (size 11 is different from 10)\n",
      "> /home/iaamini/Documents/ML_practice/ML_fundamentals/ML_fundamentals/algorithms/optimizers.py(42)line_search()\n",
      "-> pente = p @ g\n",
      "(Pdb) n\n",
      "--Return--\n",
      "> /home/iaamini/Documents/ML_practice/ML_fundamentals/ML_fundamentals/algorithms/optimizers.py(42)line_search()->None\n",
      "-> pente = p @ g\n",
      "(Pdb) n\n",
      "ValueError: matmul: Input operand 1 has a mismatch in its core dimension 0, with gufunc signature (n?,k),(k,m?)->(n?,m?) (size 11 is different from 10)\n",
      "> <ipython-input-28-fb6817f57490>(2)<module>()\n",
      "-> g=g, old_loss=loss, w_old=w2)\n",
      "(Pdb) n\n",
      "--Return--\n",
      "> <ipython-input-28-fb6817f57490>(2)<module>()->None\n",
      "-> g=g, old_loss=loss, w_old=w2)\n",
      "(Pdb) n\n",
      "ValueError: matmul: Input operand 1 has a mismatch in its core dimension 0, with gufunc signature (n?,k),(k,m?)->(n?,m?) (size 11 is different from 10)\n",
      "> /home/iaamini/Documents/ML_practice/ML_fundamentals/virtualenv/lib/python3.6/site-packages/IPython/core/interactiveshell.py(3291)run_code()\n",
      "-> exec(code_obj, self.user_global_ns, self.user_ns)\n",
      "(Pdb) n\n",
      "> /home/iaamini/Documents/ML_practice/ML_fundamentals/virtualenv/lib/python3.6/site-packages/IPython/core/interactiveshell.py(3294)run_code()\n",
      "-> sys.excepthook = old_excepthook\n",
      "(Pdb) n\n",
      "> /home/iaamini/Documents/ML_practice/ML_fundamentals/virtualenv/lib/python3.6/site-packages/IPython/core/interactiveshell.py(3295)run_code()\n",
      "-> except SystemExit as e:\n",
      "(Pdb) c\n"
     ]
    },
    {
     "ename": "ValueError",
     "evalue": "matmul: Input operand 1 has a mismatch in its core dimension 0, with gufunc signature (n?,k),(k,m?)->(n?,m?) (size 11 is different from 10)",
     "output_type": "error",
     "traceback": [
      "\u001b[0;31m---------------------------------------------------------------------------\u001b[0m",
      "\u001b[0;31mValueError\u001b[0m                                Traceback (most recent call last)",
      "\u001b[0;32m<ipython-input-28-fb6817f57490>\u001b[0m in \u001b[0;36m<module>\u001b[0;34m\u001b[0m\n\u001b[1;32m      1\u001b[0m w2, test_new_loss = opt.line_search(X, y, cost_func=lg.logistic_surrogate_loss, p=p, \n\u001b[0;32m----> 2\u001b[0;31m                                     g=g, old_loss=loss, w_old=w2)\n\u001b[0m\u001b[1;32m      3\u001b[0m \u001b[0;31m# w2, test_new_loss = line_search(X, y, w2, cost_func=logistic_surrogate_loss, p=p, g=g)\u001b[0m\u001b[0;34m\u001b[0m\u001b[0;34m\u001b[0m\u001b[0;34m\u001b[0m\u001b[0m\n",
      "\u001b[0;32m~/Documents/ML_practice/ML_fundamentals/ML_fundamentals/algorithms/optimizers.py\u001b[0m in \u001b[0;36mline_search\u001b[0;34m(X, y, cost_func, p, g, old_loss, w_old)\u001b[0m\n\u001b[1;32m     40\u001b[0m \u001b[0;34m\u001b[0m\u001b[0m\n\u001b[1;32m     41\u001b[0m     \u001b[0;31m# Calcul de la pente au point actuel (float)\u001b[0m\u001b[0;34m\u001b[0m\u001b[0;34m\u001b[0m\u001b[0;34m\u001b[0m\u001b[0m\n\u001b[0;32m---> 42\u001b[0;31m     \u001b[0mpente\u001b[0m \u001b[0;34m=\u001b[0m \u001b[0mp\u001b[0m \u001b[0;34m@\u001b[0m \u001b[0mg\u001b[0m\u001b[0;34m\u001b[0m\u001b[0;34m\u001b[0m\u001b[0m\n\u001b[0m\u001b[1;32m     43\u001b[0m \u001b[0;34m\u001b[0m\u001b[0m\n\u001b[1;32m     44\u001b[0m     \u001b[0;31m# Définition de la valeur minimale tolérée de eta\u001b[0m\u001b[0;34m\u001b[0m\u001b[0;34m\u001b[0m\u001b[0;34m\u001b[0m\u001b[0m\n",
      "\u001b[0;31mValueError\u001b[0m: matmul: Input operand 1 has a mismatch in its core dimension 0, with gufunc signature (n?,k),(k,m?)->(n?,m?) (size 11 is different from 10)"
     ]
    }
   ],
   "source": [
    "w2, test_new_loss = opt.line_search(X, y, cost_func=lg.logistic_surrogate_loss, p=p, \n",
    "                                    g=g, old_loss=loss, w_old=w2)\n",
    "# w2, test_new_loss = line_search(X, y, w2, cost_func=logistic_surrogate_loss, p=p, g=g)"
   ]
  },
  {
   "cell_type": "code",
   "execution_count": 58,
   "metadata": {},
   "outputs": [
    {
     "data": {
      "text/plain": [
       "array([0.77084941, 0.51170377, 0.48691143, 0.59902129, 0.99471183,\n",
       "       0.61206021, 0.38004313, 0.72647739, 0.3834334 , 0.98672469,\n",
       "       0.66083577])"
      ]
     },
     "execution_count": 58,
     "metadata": {},
     "output_type": "execute_result"
    }
   ],
   "source": [
    "w2"
   ]
  },
  {
   "cell_type": "code",
   "execution_count": 59,
   "metadata": {},
   "outputs": [
    {
     "data": {
      "text/plain": [
       "0.7499999999645529"
      ]
     },
     "execution_count": 59,
     "metadata": {},
     "output_type": "execute_result"
    }
   ],
   "source": [
    "lg.logistic_surrogate_loss(X, y, w1)"
   ]
  },
  {
   "cell_type": "code",
   "execution_count": 60,
   "metadata": {},
   "outputs": [
    {
     "data": {
      "text/plain": [
       "0.6995819789587178"
      ]
     },
     "execution_count": 60,
     "metadata": {},
     "output_type": "execute_result"
    }
   ],
   "source": [
    "lg.logistic_surrogate_loss(X, y, w2)"
   ]
  },
  {
   "cell_type": "code",
   "execution_count": 34,
   "metadata": {},
   "outputs": [],
   "source": [
    "a = np.arange(11)\n",
    "b = np.arange(11)"
   ]
  },
  {
   "cell_type": "code",
   "execution_count": 35,
   "metadata": {},
   "outputs": [
    {
     "data": {
      "text/plain": [
       "2"
      ]
     },
     "execution_count": 35,
     "metadata": {},
     "output_type": "execute_result"
    }
   ],
   "source": [
    "np.maximum(2,0)"
   ]
  },
  {
   "cell_type": "code",
   "execution_count": 36,
   "metadata": {},
   "outputs": [
    {
     "ename": "NameError",
     "evalue": "name 'ps' is not defined",
     "output_type": "error",
     "traceback": [
      "\u001b[0;31m---------------------------------------------------------------------------\u001b[0m",
      "\u001b[0;31mNameError\u001b[0m                                 Traceback (most recent call last)",
      "\u001b[0;32m<ipython-input-36-4270fb359cf5>\u001b[0m in \u001b[0;36m<module>\u001b[0;34m\u001b[0m\n\u001b[0;32m----> 1\u001b[0;31m \u001b[0mprint\u001b[0m\u001b[0;34m(\u001b[0m\u001b[0mps\u001b[0m\u001b[0;34m.\u001b[0m\u001b[0mT\u001b[0m\u001b[0;34m.\u001b[0m\u001b[0mshape\u001b[0m\u001b[0;34m,\u001b[0m \u001b[0mg\u001b[0m\u001b[0;34m.\u001b[0m\u001b[0mshape\u001b[0m\u001b[0;34m)\u001b[0m\u001b[0;34m\u001b[0m\u001b[0;34m\u001b[0m\u001b[0m\n\u001b[0m",
      "\u001b[0;31mNameError\u001b[0m: name 'ps' is not defined"
     ]
    }
   ],
   "source": [
    "print(ps.T.shape, g.shape)"
   ]
  },
  {
   "cell_type": "code",
   "execution_count": 37,
   "metadata": {},
   "outputs": [],
   "source": [
    "# ps @ g"
   ]
  },
  {
   "cell_type": "code",
   "execution_count": 38,
   "metadata": {},
   "outputs": [
    {
     "data": {
      "text/plain": [
       "-49.99999999999999"
      ]
     },
     "execution_count": 38,
     "metadata": {},
     "output_type": "execute_result"
    }
   ],
   "source": [
    "g[-1]"
   ]
  },
  {
   "cell_type": "code",
   "execution_count": 39,
   "metadata": {},
   "outputs": [
    {
     "data": {
      "text/plain": [
       "11"
      ]
     },
     "execution_count": 39,
     "metadata": {},
     "output_type": "execute_result"
    }
   ],
   "source": [
    "g.shape[0]"
   ]
  },
  {
   "cell_type": "markdown",
   "metadata": {},
   "source": [
    "# Gradient conjugué"
   ]
  },
  {
   "cell_type": "code",
   "execution_count": 57,
   "metadata": {},
   "outputs": [],
   "source": [
    "w = np.random.random(11)"
   ]
  },
  {
   "cell_type": "code",
   "execution_count": 59,
   "metadata": {
    "scrolled": true
   },
   "outputs": [
    {
     "name": "stdout",
     "output_type": "stream",
     "text": [
      "> /home/iaamini/Documents/ML_practice/ML_fundamentals/ML_fundamentals/algorithms/optimizers.py(130)conjugate_gradient()\n",
      "-> epoque = 0\n",
      "(Pdb) n\n",
      "> /home/iaamini/Documents/ML_practice/ML_fundamentals/ML_fundamentals/algorithms/optimizers.py(131)conjugate_gradient()\n",
      "-> n, d = X.shape\n",
      "(Pdb) n\n",
      "> /home/iaamini/Documents/ML_practice/ML_fundamentals/ML_fundamentals/algorithms/optimizers.py(132)conjugate_gradient()\n",
      "-> w_old = np.random.random(d+1)\n",
      "(Pdb) n\n",
      "> /home/iaamini/Documents/ML_practice/ML_fundamentals/ML_fundamentals/algorithms/optimizers.py(135)conjugate_gradient()\n",
      "-> new_loss = cost_func(X, y, w)\n",
      "(Pdb) n\n",
      "> /home/iaamini/Documents/ML_practice/ML_fundamentals/ML_fundamentals/algorithms/optimizers.py(136)conjugate_gradient()\n",
      "-> old_loss = new_loss + 2 * epsilon\n",
      "(Pdb) n\n",
      "> /home/iaamini/Documents/ML_practice/ML_fundamentals/ML_fundamentals/algorithms/optimizers.py(137)conjugate_gradient()\n",
      "-> g = grd_func(X, y, w)\n",
      "(Pdb) n\n",
      "> /home/iaamini/Documents/ML_practice/ML_fundamentals/ML_fundamentals/algorithms/optimizers.py(139)conjugate_gradient()\n",
      "-> p = -g\n",
      "(Pdb) print(g)\n",
      "[ 31.43962682   0.06276278   5.54213954  -5.75087006   1.85309174\n",
      "  -9.14239035   3.75536922 -35.84533628  -6.12016493 -21.55472194\n",
      " -47.90183445]\n",
      "(Pdb) print(p)\n",
      "*** NameError: name 'p' is not defined\n",
      "(Pdb) n\n",
      "> /home/iaamini/Documents/ML_practice/ML_fundamentals/ML_fundamentals/algorithms/optimizers.py(140)conjugate_gradient()\n",
      "-> print(new_loss)\n",
      "(Pdb) n\n",
      "0.2709816555412725\n",
      "> /home/iaamini/Documents/ML_practice/ML_fundamentals/ML_fundamentals/algorithms/optimizers.py(142)conjugate_gradient()\n",
      "-> while np.abs(old_loss - new_loss) > np.abs(old_loss) * epsilon:\n",
      "(Pdb) n\n",
      "> /home/iaamini/Documents/ML_practice/ML_fundamentals/ML_fundamentals/algorithms/optimizers.py(143)conjugate_gradient()\n",
      "-> old_loss = new_loss\n",
      "(Pdb) n\n",
      "> /home/iaamini/Documents/ML_practice/ML_fundamentals/ML_fundamentals/algorithms/optimizers.py(144)conjugate_gradient()\n",
      "-> w, new_loss = line_search(X=X, y=y, w=w, cost_func=cost_func,\n",
      "(Pdb) n\n",
      "> /home/iaamini/Documents/ML_practice/ML_fundamentals/ML_fundamentals/algorithms/optimizers.py(145)conjugate_gradient()\n",
      "-> p=p, g=g, old_loss=old_loss,\n",
      "(Pdb) n\n",
      "> /home/iaamini/Documents/ML_practice/ML_fundamentals/ML_fundamentals/algorithms/optimizers.py(146)conjugate_gradient()\n",
      "-> new_loss=new_loss, w_old=w_old)\n",
      "(Pdb) n\n",
      "> /home/iaamini/Documents/ML_practice/ML_fundamentals/ML_fundamentals/algorithms/optimizers.py(36)line_search()\n",
      "-> alpha = 1e-4\n",
      "(Pdb) c\n",
      "0.25\n",
      "Epoque 0 and loss is: 0.25\n",
      "[-0.66040672  0.83106175 -0.07548299  0.35270637  0.54640131  0.42384557\n",
      "  0.82167585  2.09351085  0.64029927  1.1854789   2.9087172 ]\n"
     ]
    },
    {
     "name": "stderr",
     "output_type": "stream",
     "text": [
      "/home/iaamini/Documents/ML_practice/ML_fundamentals/ML_fundamentals/algorithms/logistic_regression.py:35: RuntimeWarning: overflow encountered in exp\n",
      "  np.exp(x) / (1. + np.exp(-x)),\n",
      "/home/iaamini/Documents/ML_practice/ML_fundamentals/ML_fundamentals/algorithms/logistic_regression.py:17: RuntimeWarning: overflow encountered in exp\n",
      "  return 1.0 / (1.0 + np.exp(-x))\n"
     ]
    }
   ],
   "source": [
    "opt.conjugate_gradient(X=X, y=y, w=w, \n",
    "                   cost_func=lg.logistic_surrogate_loss, \n",
    "                   grd_func=lg.gradient_logistic_surrogate_loss, epsilon=0.1)"
   ]
  },
  {
   "cell_type": "code",
   "execution_count": 58,
   "metadata": {},
   "outputs": [
    {
     "data": {
      "text/plain": [
       "array([ 31.43962682,   0.06276278,   5.54213954,  -5.75087006,\n",
       "         1.85309174,  -9.14239035,   3.75536922, -35.84533628,\n",
       "        -6.12016493, -21.55472194, -47.90183445])"
      ]
     },
     "execution_count": 58,
     "metadata": {},
     "output_type": "execute_result"
    }
   ],
   "source": [
    "lg.gradient_logistic_surrogate_loss(X, y, w)"
   ]
  },
  {
   "cell_type": "code",
   "execution_count": null,
   "metadata": {},
   "outputs": [],
   "source": []
  },
  {
   "cell_type": "code",
   "execution_count": 43,
   "metadata": {},
   "outputs": [
    {
     "ename": "NameError",
     "evalue": "name 'ps' is not defined",
     "output_type": "error",
     "traceback": [
      "\u001b[0;31m---------------------------------------------------------------------------\u001b[0m",
      "\u001b[0;31mNameError\u001b[0m                                 Traceback (most recent call last)",
      "\u001b[0;32m<ipython-input-43-856545bcae88>\u001b[0m in \u001b[0;36m<module>\u001b[0;34m\u001b[0m\n\u001b[0;32m----> 1\u001b[0;31m \u001b[0mps\u001b[0m\u001b[0;34m**\u001b[0m\u001b[0;36m2\u001b[0m\u001b[0;34m\u001b[0m\u001b[0;34m\u001b[0m\u001b[0m\n\u001b[0m",
      "\u001b[0;31mNameError\u001b[0m: name 'ps' is not defined"
     ]
    }
   ],
   "source": [
    "ps**2"
   ]
  },
  {
   "cell_type": "markdown",
   "metadata": {},
   "source": [
    "# Test des algos sur un table"
   ]
  },
  {
   "cell_type": "code",
   "execution_count": 61,
   "metadata": {},
   "outputs": [],
   "source": [
    "import pandas as pd\n",
    "breast_cancer = pd.read_csv('../../DB/breast-cancer-wisconsin.data', sep=',', header=None)\n",
    "breast_cancer.columns = ['col' + str(i) for i in range(len(breast_cancer.columns))]"
   ]
  },
  {
   "cell_type": "code",
   "execution_count": 62,
   "metadata": {},
   "outputs": [],
   "source": [
    "breast_cancer.drop('col6', inplace=True, axis=1)"
   ]
  },
  {
   "cell_type": "code",
   "execution_count": 63,
   "metadata": {},
   "outputs": [],
   "source": [
    "X = breast_cancer.iloc[:, 1:-1]\n",
    "y = breast_cancer.iloc[:, -1]\n",
    "y[y==2] = -1\n",
    "y[y==4] = 1"
   ]
  },
  {
   "cell_type": "code",
   "execution_count": 64,
   "metadata": {},
   "outputs": [],
   "source": [
    "from sklearn.model_selection import train_test_split\n",
    "X_train, X_test, y_train, y_test = train_test_split(X, y, random_state=42, \n",
    "                                                    test_size=.4, shuffle=True)"
   ]
  },
  {
   "cell_type": "code",
   "execution_count": 65,
   "metadata": {},
   "outputs": [
    {
     "data": {
      "text/plain": [
       "array([0.21390211, 0.61197772, 0.99420996, 0.03849535, 0.74187365,\n",
       "       0.81380815, 0.86046331, 0.36382311, 0.24262976])"
      ]
     },
     "execution_count": 65,
     "metadata": {},
     "output_type": "execute_result"
    }
   ],
   "source": [
    "w = np.random.random(X.shape[1]+1)\n",
    "w"
   ]
  },
  {
   "cell_type": "code",
   "execution_count": 30,
   "metadata": {
    "scrolled": true
   },
   "outputs": [
    {
     "name": "stdout",
     "output_type": "stream",
     "text": [
      "> /home/iaamini/Documents/ML_practice/ML_fundamentals/ML_fundamentals/algorithms/optimizers.py(131)conjugate_gradient()\n",
      "-> epoque = 0\n",
      "(Pdb) c\n"
     ]
    },
    {
     "name": "stderr",
     "output_type": "stream",
     "text": [
      "/home/iaamini/Documents/ML_practice/ML_fundamentals/ML_fundamentals/algorithms/logistic_regression.py:35: RuntimeWarning: overflow encountered in exp\n",
      "  np.exp(x) / (1.0 + np.exp(-x)),\n",
      "/home/iaamini/Documents/ML_practice/ML_fundamentals/ML_fundamentals/algorithms/logistic_regression.py:17: RuntimeWarning: overflow encountered in exp\n",
      "  return 1.0 / (1.0 + np.exp(-x))\n"
     ]
    },
    {
     "name": "stdout",
     "output_type": "stream",
     "text": [
      "0.34844868735083534\n",
      "> /home/iaamini/Documents/ML_practice/ML_fundamentals/ML_fundamentals/algorithms/optimizers.py(36)line_search()\n",
      "-> alpha = 1e-4\n",
      "(Pdb) c\n",
      "[-421.13048483 -185.17699511 -199.66373247 -189.81458539 -290.04887726\n",
      " -278.79262835 -171.51222662 -145.942052   -135.70490661]\n",
      "[-177.77731091  -78.07850458  -84.19366181  -79.82934308 -122.32859962\n",
      " -117.71187978  -72.20796585  -61.64890042  -56.89658338]\n",
      "[-77.3517843  -33.88174257 -36.54216638 -34.44129369 -53.11480251\n",
      " -51.23804366 -31.22767978 -26.86330875 -24.37443775]\n",
      "[-33.35423416 -14.51864518 -15.66551151 -14.55627992 -22.79146132\n",
      " -22.11511012 -13.2737566  -11.6233507  -10.1261208 ]\n",
      "[-14.27734516  -6.12300364  -6.61360689  -5.93434077  -9.64356985\n",
      "  -9.48770316  -5.48911862  -5.01546032  -3.9481959 ]\n",
      "[-5.99081775 -2.47614519 -2.68168403 -2.18918425 -3.9324519  -4.00267078\n",
      " -2.10766496 -2.14515664 -1.26465855]\n",
      "[-2.39249087 -0.89253988 -0.97429287 -0.56289417 -1.45246624 -1.62086011\n",
      " -0.63930856 -0.89876109 -0.09936408]\n",
      "[-0.82987392 -0.20484014 -0.23283762  0.14334196 -0.37550248 -0.58653003\n",
      " -0.00165704 -0.35749875  0.40667913]\n",
      "[-0.15129513  0.09379893  0.0891452   0.4500306   0.09217756 -0.137364\n",
      "  0.27524818 -0.1224513   0.62643241]\n",
      "[ 0.14330576  0.22345128  0.2289321   0.58317762  0.29521803  0.05763873\n",
      "  0.39546491 -0.02040686  0.72183696]\n",
      "[0.27124769 0.27975787 0.28964002 0.64100191 0.38339628 0.14232627\n",
      " 0.44767372 0.02390992 0.76327012]\n",
      "[0.32680689 0.30420919 0.31600263 0.66611229 0.42168797 0.17910211\n",
      " 0.47034557 0.04315462 0.7812626 ]\n",
      "[0.350934   0.31482741 0.32745084 0.67701672 0.4383165  0.19507237\n",
      " 0.48019103 0.05151182 0.789076  ]\n",
      "[0.3614114  0.31943846 0.33242232 0.68175205 0.44553758 0.20200758\n",
      " 0.4844665  0.055141   0.79246904]\n",
      "[0.3659613  0.32144084 0.33458123 0.68380841 0.44867339 0.20501926\n",
      " 0.48632316 0.056717   0.7939425 ]\n",
      "[0.36793713 0.3223104  0.33551875 0.68470141 0.45003515 0.20632711\n",
      " 0.48712944 0.0574014  0.79458236]\n",
      "[0.36879515 0.32268801 0.33592588 0.6850892  0.4506265  0.20689505\n",
      " 0.48747957 0.0576986  0.79486022]\n",
      "[0.36916776 0.32285199 0.33610268 0.6852576  0.4508833  0.20714169\n",
      " 0.48763161 0.05782766 0.79498089]\n",
      "[0.36932956 0.3229232  0.33617946 0.68533073 0.45099482 0.20724879\n",
      " 0.48769764 0.05788371 0.79503329]\n",
      "[0.36939983 0.32295412 0.3362128  0.68536248 0.45104325 0.2072953\n",
      " 0.48772631 0.05790805 0.79505604]\n",
      "[0.36943034 0.32296755 0.33622728 0.68537627 0.45106428 0.2073155\n",
      " 0.48773877 0.05791862 0.79506592]\n",
      "[0.36944359 0.32297338 0.33623356 0.68538226 0.45107341 0.20732427\n",
      " 0.48774417 0.05792321 0.79507021]\n",
      "[0.36944935 0.32297592 0.33623629 0.68538486 0.45107738 0.20732808\n",
      " 0.48774652 0.0579252  0.79507208]\n",
      "[0.36945185 0.32297702 0.33623748 0.68538599 0.4510791  0.20732973\n",
      " 0.48774754 0.05792607 0.79507289]\n",
      "[0.36945293 0.32297749 0.33623799 0.68538648 0.45107985 0.20733045\n",
      " 0.48774798 0.05792644 0.79507324]\n",
      "[0.3694534  0.3229777  0.33623822 0.6853867  0.45108017 0.20733076\n",
      " 0.48774818 0.05792661 0.79507339]\n",
      "[0.36945361 0.32297779 0.33623832 0.68538679 0.45108031 0.2073309\n",
      " 0.48774826 0.05792668 0.79507346]\n",
      "[0.3694537  0.32297783 0.33623836 0.68538683 0.45108037 0.20733096\n",
      " 0.48774829 0.05792671 0.79507349]\n",
      "0.34844868735083534\n",
      "Epoque 0 and loss is: 0.34844868735083534\n",
      "[0.36945376 0.32297786 0.33623839 0.68538686 0.45108042 0.207331\n",
      " 0.48774832 0.05792673 0.79507351]\n"
     ]
    }
   ],
   "source": [
    "w = opt.conjugate_gradient(X=X_train, y=y_train, w=w, \n",
    "                   cost_func=lg.logistic_surrogate_loss, \n",
    "                   grd_func=lg.gradient_logistic_surrogate_loss, epsilon=0.1)"
   ]
  },
  {
   "cell_type": "code",
   "execution_count": 31,
   "metadata": {},
   "outputs": [
    {
     "data": {
      "text/plain": [
       "array([0.36945376, 0.32297786, 0.33623839, 0.68538686, 0.45108042,\n",
       "       0.207331  , 0.48774832, 0.05792673, 0.79507351])"
      ]
     },
     "execution_count": 31,
     "metadata": {},
     "output_type": "execute_result"
    }
   ],
   "source": [
    "w"
   ]
  }
 ],
 "metadata": {
  "kernelspec": {
   "display_name": "Python 3",
   "language": "python",
   "name": "python3"
  },
  "language_info": {
   "codemirror_mode": {
    "name": "ipython",
    "version": 3
   },
   "file_extension": ".py",
   "mimetype": "text/x-python",
   "name": "python",
   "nbconvert_exporter": "python",
   "pygments_lexer": "ipython3",
   "version": "3.6.9"
  }
 },
 "nbformat": 4,
 "nbformat_minor": 2
}
