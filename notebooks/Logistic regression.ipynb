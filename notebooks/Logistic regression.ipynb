{
 "cells": [
  {
   "cell_type": "code",
   "execution_count": 2,
   "metadata": {},
   "outputs": [],
   "source": [
    "import numpy as np\n",
    "import matplotlib.pyplot as plt"
   ]
  },
  {
   "cell_type": "markdown",
   "metadata": {},
   "source": [
    "# Logistic regression\n",
    "\n",
    "- Introduced by statisticians towards the end of the 60s.\n",
    "- Hypothesis:\n",
    "    - Logarithm of conditional probability ratios for an input $x$ is linear to $x$\n",
    "$$\\ln{\\Big(\\frac{\\mathbb{P}(X =x | Y = 1)}{\\mathbb{P}(X = x | Y = -1)}\\Big)} = w_0 + \\langle \\bar{w}, x \\rangle$$\n",
    "\n",
    "- A posteriori probability:\n",
    "$$\\mathbb{P}(Y = 1 | X = x) = \\frac{1}{1 + e^{-(\\tilde{w} + \\langle \\bar{w}, x \\rangle)}}$$"
   ]
  },
  {
   "cell_type": "code",
   "execution_count": 16,
   "metadata": {},
   "outputs": [],
   "source": [
    "def logistic(x):\n",
    "    return np.where(x > 0, \n",
    "             1 / (1 + np.exp(-x)), \n",
    "             np.exp(x) / (1. + np.exp(x)))"
   ]
  },
  {
   "cell_type": "code",
   "execution_count": 18,
   "metadata": {},
   "outputs": [
    {
     "data": {
      "text/plain": [
       "Text(0, 0.5, 'log(x)')"
      ]
     },
     "execution_count": 18,
     "metadata": {},
     "output_type": "execute_result"
    },
    {
     "data": {
      "image/png": "[encoded data removed]",
      "text/plain": [
       "<Figure size 432x288 with 1 Axes>"
      ]
     },
     "metadata": {
      "needs_background": "light"
     },
     "output_type": "display_data"
    }
   ],
   "source": [
    "# plotting an example of logistic function\n",
    "x = np.linspace(-6, 6, 101)\n",
    "plt.plot(x, logistic(x))\n",
    "plt.axhline(y=.5, color='red')\n",
    "plt.xlabel(\"x\")\n",
    "plt.ylabel(\"log(x)\")"
   ]
  },
  {
   "cell_type": "markdown",
   "metadata": {},
   "source": [
    "# Logistic loss function\n",
    "\n",
    "In the case of machine learning it comes down to minimizing an error function. Below is the function we want to minimize in the case of the logistic funcntion.\n",
    "$$ \\hat{\\mathcal{L}}(\\textbf{w}) = \\frac{1}{m}\\sum_{t=1}^{m}\\ln{(1 + e^{-y_ih_w(x_i)})}$$"
   ]
  },
  {
   "cell_type": "code",
   "execution_count": 19,
   "metadata": {},
   "outputs": [],
   "source": [
    "def logistic_surrogate_loss(w, X, y):\n",
    "    # Computing the dot product\n",
    "    n, d = X.shape\n",
    "    ps = np.dot(X, w[:-1]) + w[-1]\n",
    "    yps = y * ps\n",
    "#     loss = np.where(yps > 0,\n",
    "#                    np.log(1 + np.exp(-yps)),\n",
    "#                    (-yps + np.log(1 + np.exp(yps))))\n",
    "#     loss = logistic(yps)\n",
    "    loss = np.log(1. + np.exp(-yps))\n",
    "#     loss = loss.sum()\n",
    "#     loss /= n\n",
    "    return np.mean(loss)"
   ]
  },
  {
   "cell_type": "markdown",
   "metadata": {},
   "source": [
    "## The gradient of the logistic function\n",
    "\n",
    "$$ \\hat{\\mathcal{L}}(\\textbf{w}) = \\frac{1}{m}\\sum_{t=1}^{m}\\ln{(1 + e^{-y_ih_w(x_i)})}$$"
   ]
  },
  {
   "cell_type": "code",
   "execution_count": 20,
   "metadata": {},
   "outputs": [],
   "source": [
    "def gradient_log_surrogate_loss(w, X, y):\n",
    "    # defining dim variables\n",
    "    n, d = X.shape\n",
    "    z = X.dot(w[:-1]) + w[-1]\n",
    "    z = logistic(y*z)\n",
    "    z0 = (z - 1) * y\n",
    "    \n",
    "    # initiating g: gradient vector\n",
    "    g = np.zeros(d+1)\n",
    "    # Computing dot product\n",
    "    g[:-1] = X.T.dot(z0)\n",
    "    g[-1] = z0.sum()\n",
    "    g /= n\n",
    "    return g"
   ]
  }
 ],
 "metadata": {
  "kernelspec": {
   "display_name": "Python 3",
   "language": "python",
   "name": "python3"
  },
  "language_info": {
   "codemirror_mode": {
    "name": "ipython",
    "version": 3
   },
   "file_extension": ".py",
   "mimetype": "text/x-python",
   "name": "python",
   "nbconvert_exporter": "python",
   "pygments_lexer": "ipython3",
   "version": "3.7.5"
  }
 },
 "nbformat": 4,
 "nbformat_minor": 4
}
