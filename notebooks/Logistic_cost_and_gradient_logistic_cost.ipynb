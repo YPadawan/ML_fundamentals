{
 "cells": [
  {
   "cell_type": "code",
   "execution_count": 1,
   "metadata": {},
   "outputs": [],
   "source": [
    "%load_ext autoreload\n",
    "%autoreload 2\n",
    "import sys\n",
    "\n",
    "sys.path.append('/home/iaamini/Documents/ML_practice/ML_fundamentals/ML_fundamentals/algorithms/')"
   ]
  },
  {
   "cell_type": "code",
   "execution_count": 2,
   "metadata": {},
   "outputs": [],
   "source": [
    "import numpy as np\n",
    "import matplotlib.pyplot as plt"
   ]
  },
  {
   "cell_type": "markdown",
   "metadata": {},
   "source": [
    "# La régression logistique\n",
    "\n",
    "- Méthode introduite par les statisticiens vers la fin des années 60 et popularisée par Andersen (1982).\n",
    "- Permet de s'affranchir des hypothèses restrictives associées aux méthode linéaires paramétriques.\n",
    "- Hypothèse:\n",
    "    - Logarithme des rapports de probabilités conditionnelles des classes pour une entrée $x$ est linéaire par rapport à $x$.\n",
    "\n",
    "$$\\ln{\\Big(\\frac{\\mathbb{P}(X =x | Y = 1)}{\\mathbb{P}(X = x | Y = -1)}\\Big)} = w_0 + \\langle \\bar{w}, x \\rangle$$\n",
    "\n",
    "\n",
    "- La probabilité à posteriori:\n",
    "\n",
    "$$\\mathbb{P}(Y = 1 | X = x) = \\frac{1}{1 + e^{-(\\tilde{w} + \\langle \\bar{w}, x \\rangle)}}$$\n",
    "\n",
    "- On utilise cette transformation dans le cas où y prend un valeur binaire.\n"
   ]
  },
  {
   "cell_type": "code",
   "execution_count": 3,
   "metadata": {},
   "outputs": [],
   "source": [
    "# définition de la fonction sigmoid ou logistique\n",
    "# N.B Dans le cas particulier de la régression logistique x\n",
    "# correspond à la combinaison linéaire de w et x (cf plus haut)\n",
    "def logistic(x):\n",
    "    return 1 / (1 + np.exp(-x))"
   ]
  },
  {
   "cell_type": "markdown",
   "metadata": {},
   "source": [
    "## Fonction de coût\n",
    "\n",
    "\n",
    "$$\\hat{\\mathcal{L}}(\\textbf{w}) = \\frac{1}{m}\\sum_{t=1}^{m}\\ln{(1 + e^{-y_ih_w(x_i)})}$$\n",
    "\n",
    "Selon que la valeur de $y \\in \\left\\{-1, 1\\right\\}$ ou que $y \\in \\left\\{0, 1\\right\\}$\n",
    "\n",
    "### Pour $y \\in \\left\\{0, 1\\right\\}$\n",
    "\n",
    "\n",
    "$$\n",
    "\\mathbb{P}(y=1 | x; \\theta)  = h_\\theta(x)\n",
    "$$\n",
    "$$ \\mathbb{P}(y=0 | x; \\theta)  = 1 - h_\\theta(x) $$\n",
    "\n",
    "Ainsi:\n",
    "\n",
    "\n",
    "$$ p(y | x; \\theta) = (h_\\theta(x))^y (1 - h_\\theta(x)^{1-y}$$\n",
    "\n",
    "L'équation ci-dessus correspond à une modélisation de Bernoulli. Partant du principe que les observations sont indépendantes. La fonction de vraisemblance correspond à:\n",
    "\n",
    "$$ \\mathcal{L} = \\prod_{i = 1}^{m} p(y^{(i)} | x^{(i)}; \\theta)$$\n",
    "ce qui correspond à:\n",
    "\n",
    "$$ \\mathcal{L} = \\prod_{i = 1}^{m}(h_\\theta(x))^{y^{(i)}} (1 - h_\\theta(x))^{{1-y}^{(i)}}$$\n",
    "\n",
    "Formule pour la maximisation de la log-vraisemblance:\n",
    "\n",
    "$$ \\log(\\mathcal{L}) = \\sum_{i=1}^{m} y^{(i)} \\log h(x^{(i)}) + (1 - y^{(i)}) \\log(1 - h(x^{(i)})$$\n",
    "\n",
    "Il existe toutefois une seconde notation possible dans le cas où $y \\in \\left\\{-1, 1 \\right\\}$\n",
    "\n",
    "\n"
   ]
  },
  {
   "cell_type": "markdown",
   "metadata": {},
   "source": [
    "\n",
    "\n"
   ]
  },
  {
   "cell_type": "code",
   "execution_count": 4,
   "metadata": {},
   "outputs": [
    {
     "name": "stderr",
     "output_type": "stream",
     "text": [
      "/home/iaamini/Documents/ML_practice/ML_fundamentals/virtualenv/lib/python3.6/site-packages/ipykernel_launcher.py:2: RuntimeWarning: overflow encountered in exp\n",
      "  \n"
     ]
    },
    {
     "data": {
      "text/plain": [
       "[<matplotlib.lines.Line2D at 0x7f4d7d9652b0>]"
      ]
     },
     "execution_count": 4,
     "metadata": {},
     "output_type": "execute_result"
    },
    {
     "data": {
      "image/png": "[encoded data removed]",
      "text/plain": [
       "<Figure size 432x288 with 1 Axes>"
      ]
     },
     "metadata": {
      "needs_background": "light"
     },
     "output_type": "display_data"
    }
   ],
   "source": [
    "x= np.linspace(-1000, 1000, 101)\n",
    "plt.plot(x, logistic(x))\n",
    "plt.plot(x, stable_logistic(x))"
   ]
  },
  {
   "cell_type": "markdown",
   "metadata": {},
   "source": [
    "### Le gradient de la fonction:\n",
    "\n",
    "$$ \\nabla \\hat{\\mathcal{L}}(\\textbf{w}) = \\frac{1}{m}\\sum_{t=1}^{m}y_i \\Big(1 - \\frac{1}{1 + e^{-y_ih_w(x_i)}}\\Big) \\times x_i $$\n",
    "\n",
    "- Pour l'apprentissage des paramètres du modèle de la régression logistique en utilisant la méthode du gradient conjugué  pour minimser "
   ]
  },
  {
   "cell_type": "code",
   "execution_count": 5,
   "metadata": {},
   "outputs": [],
   "source": [
    "def gradient_log_s_loss(w, X, y):\n",
    "    # defining dim variables\n",
    "    n, d = X.shape\n",
    "    \n",
    "    # initiating g: gradient vector\n",
    "    g = np.zeros(d+1)\n",
    "    \n",
    "    # Computing dot product\n",
    "    ps = np.dot(X, w[1:]) + w[0]\n",
    "#     print((1-sigmoid(y*ps)).shape)\n",
    "#     print(X.shape)\n",
    "#     print(np.dot(1-sigmoid(y*ps), X).shape)\n",
    "#     print(np.dot(1-sigmoid(y*ps), X).shape)\n",
    "    g[1:] = np.dot(1-logistic(y*ps), X)\n",
    "    g[0] = (1-(logistic(y*ps)) * y).sum()\n",
    "#     print(g[0])\n",
    "    g /= n\n",
    "    return g\n"
   ]
  },
  {
   "cell_type": "code",
   "execution_count": 6,
   "metadata": {},
   "outputs": [],
   "source": [
    "X = np.arange(-10., 10, 1)\n",
    "# bias = np.ones(len(X))\n",
    "# X = np.vstack([X,bias]) # Add intercept\n",
    "w = np.random.random(2)\n",
    "\n",
    "y = np.dot(X[:, None], w[1:]) + w[0]\n",
    "y = logistic(y)\n",
    "y = np.random.binomial(1., y)"
   ]
  },
  {
   "cell_type": "code",
   "execution_count": 7,
   "metadata": {},
   "outputs": [
    {
     "data": {
      "text/plain": [
       "array([0, 0, 0, 0, 0, 0, 0, 0, 0, 0, 0, 1, 1, 1, 1, 1, 1, 1, 1, 1])"
      ]
     },
     "execution_count": 7,
     "metadata": {},
     "output_type": "execute_result"
    }
   ],
   "source": [
    "y"
   ]
  },
  {
   "cell_type": "code",
   "execution_count": 8,
   "metadata": {},
   "outputs": [],
   "source": [
    "def logistic_surrogate_loss(w, X, y):\n",
    "    # Computing the dot product\n",
    "    n, d = X.shape\n",
    "    ps = np.dot(X, w[1:]) + w[0]\n",
    "    loss = logistic(y*ps).sum() / n\n",
    "    return loss"
   ]
  },
  {
   "cell_type": "code",
   "execution_count": 9,
   "metadata": {},
   "outputs": [
    {
     "data": {
      "text/plain": [
       "0.6990452965966952"
      ]
     },
     "execution_count": 9,
     "metadata": {},
     "output_type": "execute_result"
    }
   ],
   "source": [
    "logistic_surrogate_loss(w, X[:, np.newaxis], y)"
   ]
  },
  {
   "cell_type": "code",
   "execution_count": 10,
   "metadata": {},
   "outputs": [
    {
     "data": {
      "text/plain": [
       "array([-10.,  -9.,  -8.,  -7.,  -6.,  -5.,  -4.,  -3.,  -2.,  -1.,   0.,\n",
       "         1.,   2.,   3.,   4.,   5.,   6.,   7.,   8.,   9.])"
      ]
     },
     "execution_count": 10,
     "metadata": {},
     "output_type": "execute_result"
    }
   ],
   "source": [
    "X"
   ]
  }
 ],
 "metadata": {
  "kernelspec": {
   "display_name": "Python 3",
   "language": "python",
   "name": "python3"
  },
  "language_info": {
   "codemirror_mode": {
    "name": "ipython",
    "version": 3
   },
   "file_extension": ".py",
   "mimetype": "text/x-python",
   "name": "python",
   "nbconvert_exporter": "python",
   "pygments_lexer": "ipython3",
   "version": "3.6.9"
  }
 },
 "nbformat": 4,
 "nbformat_minor": 2
}
