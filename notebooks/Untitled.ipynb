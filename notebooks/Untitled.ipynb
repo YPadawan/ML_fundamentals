{
 "cells": [
  {
   "cell_type": "code",
   "execution_count": 51,
   "metadata": {},
   "outputs": [
    {
     "name": "stdout",
     "output_type": "stream",
     "text": [
      "The autoreload extension is already loaded. To reload it, use:\n",
      "  %reload_ext autoreload\n"
     ]
    }
   ],
   "source": [
    "%load_ext autoreload\n",
    "%autoreload 2\n",
    "import sys\n",
    "\n",
    "sys.path.append('/home/iaamini/Documents/ML_practice/ML_fundamentals/ML_fundamentals/algorithms/')"
   ]
  },
  {
   "cell_type": "code",
   "execution_count": 52,
   "metadata": {},
   "outputs": [],
   "source": [
    "import numpy as np\n",
    "from sklearn.datasets import make_classification\n",
    "import logistic_regression as lg"
   ]
  },
  {
   "cell_type": "code",
   "execution_count": 53,
   "metadata": {},
   "outputs": [],
   "source": [
    "def ls_armijo(X, y, w, f, fval0, pk, pente, alpha=1e-4, eta0=1, eta_min=0):\n",
    "    \n",
    "    w_new = w + eta0*pk\n",
    "    fval_eta0 = f(w_new, X, y)\n",
    "    \n",
    "    if fval_eta0 <= fval0 + alpha*eta0*pente:\n",
    "        print(\"returning eta0 at line 9\")\n",
    "        return eta0, fval_eta0\n",
    "    # Sinon on calcul le minimiseur de l'interpolant quadratic\n",
    "    eta1 = -(pente) * eta0**2 / 2.0 * (fval_eta0 - fval0 - pente * eta0)\n",
    "    w_new = w + eta1*pk\n",
    "    fval_eta1 = f(w_new, X, y)\n",
    "    \n",
    "    if fval_eta1 <= fval_eta0 + alpha*eta1*pente:\n",
    "        print(\"returning eta1 at line 16\")\n",
    "        return eta1, fval_eta1\n",
    "    i = 0\n",
    "    while eta1 > eta_min:\n",
    "        print(i)\n",
    "        i += 1\n",
    "        factor = 1 / eta1 - eta0\n",
    "        \n",
    "        coeff1 = fval_eta1 - fval0 - eta1 * pente\n",
    "        coeff2 = fval_eta0 - fval0 - eta0 * pente\n",
    "\n",
    "        a = (coeff1/(eta0**2) - coeff2/(eta1**2)) / (eta0 - eta1)\n",
    "        b = (-eta1*coeff1/eta0**2)+eta0*coeff2/(eta1**2)/(eta0-eta1)\n",
    "\n",
    "        # Calcul des coefficients du polynôme d'interpolation de degré 3 (Eq. 2.33)\n",
    "#         a, b = factor * np.dot(mat1, mat2).flatten()\n",
    "        if a != 0:\n",
    "            delta = b**2 - 3*a*pente\n",
    "            if delta >= 0:\n",
    "                eta2 = (-b + np.sqrt(delta)) / 3*a\n",
    "            else:\n",
    "                raise ValueError(\"ls_armijo:problème d'interpolation\")\n",
    "        else:\n",
    "            eta2 = eta1/2\n",
    "            \n",
    "        w_new= w + eta2*pk\n",
    "        fval_eta2 = f(w_new, X, y)\n",
    "        \n",
    "        if fval_eta2 <= fval_eta0 + alpha*eta2*pente:\n",
    "            print(\"returning eta2 at line 44\")\n",
    "            return eta2, fval_eta2\n",
    "        if (eta1 - eta2) > eta1 / 2.0:\n",
    "            eta2 = eta2 / 2.0\n",
    "        eta0 = eta1\n",
    "        eta1 = eta2\n",
    "        fval_eta0 = fval_eta1\n",
    "        fval_eta1 = fval_eta2\n",
    "        \n",
    "    return None, fval_eta1  \n",
    "    "
   ]
  },
  {
   "cell_type": "code",
   "execution_count": 55,
   "metadata": {},
   "outputs": [],
   "source": [
    "def line_search(X, y, w, f, pk, gfk, old_fval, alpha=1e-4, eta0=1, eta_min=0):\n",
    "    \"\"\"Temporary docstring for the line search\n",
    "    X: array_like, matrix of data\n",
    "    y: array_like, true labels\n",
    "    w: array_like, weight vector\n",
    "    f: callable, cost function\n",
    "    pk: array_like, search direction\n",
    "    gfk: array_like, gradient vector\n",
    "    old_fval: float, old value of function\n",
    "    alpha: float, constant coefficient\n",
    "    eta0: float, int, initial step length\n",
    "    eta_min: float, int minimum value for step length\n",
    "    \"\"\"\n",
    "#     xk = np.atleast_1d(xk)\n",
    "    fc = [0]\n",
    "\n",
    "    def phi(eta1):\n",
    "        fc[0] += 1\n",
    "        return f(w + eta1*pk, *args)\n",
    "\n",
    "    if old_fval is None:\n",
    "        fval0 = phi(0.)\n",
    "    else:\n",
    "        fval0 = old_fval  # compute f(xk) -- done in past loop\n",
    "    \n",
    "    # Calcul de la pente\n",
    "    pente = np.dot(pk, gfk)\n",
    "    \n",
    "    eta, fval1 = ls_armijo(X, y, w, f, fval0,pk, pente, alpha=alpha,\n",
    "                            eta0=eta0)\n",
    "    return eta, fval1"
   ]
  },
  {
   "cell_type": "code",
   "execution_count": 56,
   "metadata": {},
   "outputs": [],
   "source": [
    "X, y = make_classification(n_samples=100, n_features=10)\n",
    "w = np.ones(11) #np.random.random(X.shape[1]+1)\n",
    "loss = lg.logistic_surrogate_loss(w, X, y)\n",
    "g = lg.gradient_logistic_surrogate_loss(w, X, y)\n",
    "p = -g"
   ]
  },
  {
   "cell_type": "code",
   "execution_count": 57,
   "metadata": {},
   "outputs": [
    {
     "data": {
      "text/plain": [
       "0.25"
      ]
     },
     "execution_count": 57,
     "metadata": {},
     "output_type": "execute_result"
    }
   ],
   "source": [
    "loss"
   ]
  },
  {
   "cell_type": "code",
   "execution_count": 58,
   "metadata": {},
   "outputs": [
    {
     "name": "stdout",
     "output_type": "stream",
     "text": [
      "0\n",
      "returning eta2 at line 44\n"
     ]
    },
    {
     "name": "stderr",
     "output_type": "stream",
     "text": [
      "/home/iaamini/Documents/ML_practice/ML_fundamentals/ML_fundamentals/algorithms/logistic_regression.py:35: RuntimeWarning: overflow encountered in exp\n",
      "  np.exp(x) / (1.0 + np.exp(x)),\n",
      "/home/iaamini/Documents/ML_practice/ML_fundamentals/ML_fundamentals/algorithms/logistic_regression.py:35: RuntimeWarning: invalid value encountered in true_divide\n",
      "  np.exp(x) / (1.0 + np.exp(x)),\n",
      "/home/iaamini/Documents/ML_practice/ML_fundamentals/ML_fundamentals/algorithms/logistic_regression.py:17: RuntimeWarning: overflow encountered in exp\n",
      "  return 1.0 / (1.0 + np.exp(-x))\n"
     ]
    },
    {
     "data": {
      "text/plain": [
       "(-2.665737595556895e+22, 0.25)"
      ]
     },
     "execution_count": 58,
     "metadata": {},
     "output_type": "execute_result"
    }
   ],
   "source": [
    "line_search(X, y, w, f=lg.logistic_surrogate_loss, pk=p, gfk=g, old_fval=loss)"
   ]
  },
  {
   "cell_type": "code",
   "execution_count": 332,
   "metadata": {},
   "outputs": [],
   "source": [
    "def test_func(x):\n",
    "    return x**2\n",
    "def test_func_gradient(x):\n",
    "    return 2*x\n",
    "x = np.linspace(-200, 200)\n",
    "y = test_func(x)"
   ]
  },
  {
   "cell_type": "code",
   "execution_count": 333,
   "metadata": {},
   "outputs": [
    {
     "data": {
      "image/png": "[encoded data removed]",
      "text/plain": [
       "<Figure size 864x576 with 1 Axes>"
      ]
     },
     "metadata": {
      "needs_background": "light"
     },
     "output_type": "display_data"
    }
   ],
   "source": [
    "import matplotlib.pyplot as plt\n",
    "plt.figure(figsize=(12, 8))\n",
    "plt.plot(x, y)\n",
    "plt.grid(True)\n",
    "plt.scatter([115, -85, 73, -52], [test_func(115), test_func(-85), test_func(73), test_func(-52)], c='r', s=50)\n",
    "plt.plot([115, -85, 73, -52], [test_func(115), test_func(-85), test_func(73), test_func(-52)], 'xr--')\n",
    "\n",
    "plt.show()"
   ]
  },
  {
   "cell_type": "code",
   "execution_count": 334,
   "metadata": {},
   "outputs": [],
   "source": [
    "def gradient_descent(x0, f, g, learning_rate=0.05, T=1000):\n",
    "    \"\"\"\n",
    "    X: array of values\n",
    "    f: function to apply\n",
    "    g: gradient of the function\n",
    "    learning_rate: Learning rate for each step\n",
    "    T: number of iteration\n",
    "    \"\"\"\n",
    "    x = x0\n",
    "    t = 0\n",
    "    x_list = [x]\n",
    "    while t <= T:\n",
    "        x -= learning_rate * g(x)\n",
    "        x_list.append(x)\n",
    "        t +=1\n",
    "    return x_list"
   ]
  },
  {
   "cell_type": "code",
   "execution_count": 335,
   "metadata": {},
   "outputs": [],
   "source": [
    "test_result = gradient_descent(200, test_func, test_func_gradient, learning_rate=0.1, T=100)"
   ]
  },
  {
   "cell_type": "code",
   "execution_count": 336,
   "metadata": {
    "scrolled": true
   },
   "outputs": [
    {
     "data": {
      "text/plain": [
       "[200,\n",
       " 160.0,\n",
       " 128.0,\n",
       " 102.4,\n",
       " 81.92,\n",
       " 65.536,\n",
       " 52.4288,\n",
       " 41.94304,\n",
       " 33.554432000000006,\n",
       " 26.843545600000006,\n",
       " 21.474836480000004,\n",
       " 17.179869184000005,\n",
       " 13.743895347200004,\n",
       " 10.995116277760003,\n",
       " 8.796093022208002,\n",
       " 7.036874417766401,\n",
       " 5.629499534213121,\n",
       " 4.503599627370496,\n",
       " 3.602879701896397,\n",
       " 2.8823037615171176,\n",
       " 2.305843009213694,\n",
       " 1.8446744073709553,\n",
       " 1.4757395258967643,\n",
       " 1.1805916207174114,\n",
       " 0.9444732965739291,\n",
       " 0.7555786372591433,\n",
       " 0.6044629098073147,\n",
       " 0.48357032784585174,\n",
       " 0.3868562622766814,\n",
       " 0.30948500982134514,\n",
       " 0.2475880078570761,\n",
       " 0.1980704062856609,\n",
       " 0.15845632502852872,\n",
       " 0.12676506002282298,\n",
       " 0.10141204801825839,\n",
       " 0.08112963841460671,\n",
       " 0.06490371073168537,\n",
       " 0.0519229685853483,\n",
       " 0.04153837486827864,\n",
       " 0.03323069989462291,\n",
       " 0.02658455991569833,\n",
       " 0.021267647932558663,\n",
       " 0.01701411834604693,\n",
       " 0.013611294676837544,\n",
       " 0.010889035741470035,\n",
       " 0.008711228593176027,\n",
       " 0.006968982874540822,\n",
       " 0.005575186299632657,\n",
       " 0.004460149039706126,\n",
       " 0.0035681192317649005,\n",
       " 0.0028544953854119206,\n",
       " 0.0022835963083295365,\n",
       " 0.0018268770466636293,\n",
       " 0.0014615016373309034,\n",
       " 0.0011692013098647228,\n",
       " 0.0009353610478917782,\n",
       " 0.0007482888383134225,\n",
       " 0.000598631070650738,\n",
       " 0.00047890485652059045,\n",
       " 0.00038312388521647236,\n",
       " 0.0003064991081731779,\n",
       " 0.00024519928653854233,\n",
       " 0.00019615942923083388,\n",
       " 0.0001569275433846671,\n",
       " 0.00012554203470773367,\n",
       " 0.00010043362776618694,\n",
       " 8.034690221294955e-05,\n",
       " 6.427752177035965e-05,\n",
       " 5.1422017416287715e-05,\n",
       " 4.113761393303017e-05,\n",
       " 3.2910091146424137e-05,\n",
       " 2.632807291713931e-05,\n",
       " 2.1062458333711447e-05,\n",
       " 1.684996666696916e-05,\n",
       " 1.3479973333575326e-05,\n",
       " 1.0783978666860261e-05,\n",
       " 8.62718293348821e-06,\n",
       " 6.901746346790568e-06,\n",
       " 5.521397077432454e-06,\n",
       " 4.417117661945963e-06,\n",
       " 3.5336941295567703e-06,\n",
       " 2.826955303645416e-06,\n",
       " 2.261564242916333e-06,\n",
       " 1.8092513943330665e-06,\n",
       " 1.4474011154664532e-06,\n",
       " 1.1579208923731626e-06,\n",
       " 9.263367138985301e-07,\n",
       " 7.410693711188241e-07,\n",
       " 5.928554968950593e-07,\n",
       " 4.742843975160474e-07,\n",
       " 3.7942751801283795e-07,\n",
       " 3.0354201441027034e-07,\n",
       " 2.428336115282163e-07,\n",
       " 1.9426688922257304e-07,\n",
       " 1.5541351137805843e-07,\n",
       " 1.2433080910244675e-07,\n",
       " 9.94646472819574e-08,\n",
       " 7.957171782556593e-08,\n",
       " 6.365737426045274e-08,\n",
       " 5.092589940836219e-08,\n",
       " 4.074071952668975e-08,\n",
       " 3.2592575621351805e-08]"
      ]
     },
     "execution_count": 336,
     "metadata": {},
     "output_type": "execute_result"
    }
   ],
   "source": [
    "test_result"
   ]
  },
  {
   "cell_type": "code",
   "execution_count": 111,
   "metadata": {
    "scrolled": true
   },
   "outputs": [],
   "source": [
    "# list(map(test_func_gradient, test_result))"
   ]
  },
  {
   "cell_type": "code",
   "execution_count": 337,
   "metadata": {},
   "outputs": [
    {
     "data": {
      "text/plain": [
       "[<matplotlib.lines.Line2D at 0x7f2690d9c080>]"
      ]
     },
     "execution_count": 337,
     "metadata": {},
     "output_type": "execute_result"
    },
    {
     "data": {
      "image/png": "[encoded data removed]",
      "text/plain": [
       "<Figure size 864x576 with 1 Axes>"
      ]
     },
     "metadata": {
      "needs_background": "light"
     },
     "output_type": "display_data"
    }
   ],
   "source": [
    "plt.figure(figsize=(12, 8))\n",
    "plt.plot(x, y)\n",
    "plt.grid(True)\n",
    "plt.scatter(test_result, list(map(test_func, test_result)), c='r', s=50)\n",
    "plt.plot(test_result, list(map(test_func, test_result)), 'xr--')"
   ]
  },
  {
   "cell_type": "code",
   "execution_count": 240,
   "metadata": {},
   "outputs": [],
   "source": [
    "def quadratic_cost(pred, y):\n",
    "    m = len(y)\n",
    "    return (1/2*m)*np.mean((pred - y)**2)\n",
    "\n",
    "\n",
    "# Creating the stochastic gradient descent function with \n",
    "def stochastic_gradient_descent(X, ytrue, T=1000, epsilon=0.1, learning_rate=0.5): \n",
    "    nrow = len(ytrue)\n",
    "    w = np.zeros(X.shape[1])  # initialisation du vecteur w avec les w_i = 0\n",
    "    t = 0\n",
    "    m = len(ytrue)\n",
    "    \n",
    "    cost = np.inf\n",
    "    costs = []\n",
    "    w_list = []\n",
    "\n",
    "    while (np.linalg.norm(np.gradient(cost)) > epsilon) or (t <= T):\n",
    "        i = np.random.randint(nrow)\n",
    "        y_t = ytrue[i] \n",
    "        X_t = X[i,:]\n",
    "        prediction = np.dot(X_t.T, w)\n",
    "        cost = np.sum(quadratic_cost(prediction, y_t))\n",
    "        costs.append(cost)\n",
    "        w_list.append(w)\n",
    "        w = w - learning_rate * (1/m * X_t.T.dot(prediction - y_t))\n",
    "        \n",
    "        t += 1 \n",
    "    return w, costs \n",
    "    "
   ]
  },
  {
   "cell_type": "code",
   "execution_count": 176,
   "metadata": {},
   "outputs": [],
   "source": [
    "def predictions(X, w):\n",
    "    return np.dot(X, w)"
   ]
  },
  {
   "cell_type": "code",
   "execution_count": 208,
   "metadata": {},
   "outputs": [],
   "source": [
    "# creating a simple model\n",
    "w = np.random.random(1)\n",
    "w = w[:, np.newaxis]\n",
    "X = np.random.rand(10)\n",
    "X = X[:, np.newaxis]\n",
    "y = X*w"
   ]
  },
  {
   "cell_type": "code",
   "execution_count": 241,
   "metadata": {},
   "outputs": [],
   "source": [
    "w, costs = stochastic_gradient_descent(X, y, T=1000)"
   ]
  },
  {
   "cell_type": "code",
   "execution_count": 244,
   "metadata": {},
   "outputs": [
    {
     "data": {
      "text/plain": [
       "<matplotlib.collections.PathCollection at 0x7f2690e6ec50>"
      ]
     },
     "execution_count": 244,
     "metadata": {},
     "output_type": "execute_result"
    },
    {
     "data": {
      "image/png": "[encoded data removed]",
      "text/plain": [
       "<Figure size 432x288 with 1 Axes>"
      ]
     },
     "metadata": {
      "needs_background": "light"
     },
     "output_type": "display_data"
    }
   ],
   "source": [
    "plt.scatter(np.arange(1, len(costs)+1), costs)"
   ]
  },
  {
   "cell_type": "code",
   "execution_count": 217,
   "metadata": {},
   "outputs": [
    {
     "data": {
      "text/plain": [
       "[<matplotlib.lines.Line2D at 0x7f2692abae10>]"
      ]
     },
     "execution_count": 217,
     "metadata": {},
     "output_type": "execute_result"
    },
    {
     "data": {
      "image/png": "[encoded data removed]",
      "text/plain": [
       "<Figure size 432x288 with 1 Axes>"
      ]
     },
     "metadata": {
      "needs_background": "light"
     },
     "output_type": "display_data"
    }
   ],
   "source": [
    "plt.plot(w_list, costs)"
   ]
  },
  {
   "cell_type": "markdown",
   "metadata": {},
   "source": [
    "# Testing the line search"
   ]
  },
  {
   "cell_type": "code",
   "execution_count": 245,
   "metadata": {},
   "outputs": [],
   "source": [
    "def predictions(X, w):\n",
    "    w0 = w[-1]\n",
    "    return np.dot(X, w[:-1]) + w0\n",
    "\n",
    "def objective_function(w, X, y):\n",
    "    pred = predictions(X, w)\n",
    "    cost = quadratic_cost(pred, y)\n",
    "    return cost"
   ]
  },
  {
   "cell_type": "code",
   "execution_count": null,
   "metadata": {},
   "outputs": [],
   "source": [
    "def quadratic_cost(pred, y):\n",
    "    m = len(y)\n",
    "    return (1/2*m)*np.mean((pred - y)**2)\n",
    "\n",
    "def grad_quadratic_w0(w0, y, X):\n",
    "    return np.mean((pred - y)**2)\n",
    "\n",
    "def grad_quadratic_w(w, y, X):\n",
    "    return np.mean((pred - y)**2)*X"
   ]
  },
  {
   "cell_type": "code",
   "execution_count": 338,
   "metadata": {},
   "outputs": [],
   "source": []
  },
  {
   "cell_type": "code",
   "execution_count": 339,
   "metadata": {},
   "outputs": [],
   "source": [
    "def gradient_logistic_surrogate_loss(w, X, y):\n",
    "    \"\"\"Calcul du vecteur gradient Eq. (3.17) avec le biais en plus\n",
    "    Paramètres\n",
    "    -----------\n",
    "    X: matrix, or sparse array shape (n, d)\n",
    "    y: array, shape (n,)\n",
    "        True labels\n",
    "    w: array, shape (d,)\n",
    "        Weight vectors\n",
    "    w0: scalar,\n",
    "        bais\n",
    "    Renvoie\n",
    "    -------\n",
    "    grad : array, shape (d,)\n",
    "        Vecteur gradient de la fonction de coût logistique\n",
    "    \"\"\"\n",
    "    n, d = X.shape\n",
    "    g = np.zeros(d + 1)\n",
    "    ps = np.dot(X, w[:-1]).sum() + w[-1]\n",
    "    g[-1] = ((1 - lg.logistic(y * ps)) * y).sum()\n",
    "    g[:d] = 1 - np.dot((lg.logistic(y * ps)) * y, X).sum()\n",
    "    g /= n\n",
    "    return g"
   ]
  },
  {
   "cell_type": "code",
   "execution_count": 340,
   "metadata": {},
   "outputs": [],
   "source": [
    "X, y = make_classification(n_samples=100, n_features=10)\n",
    "w = np.random.random(X.shape[1]+1)\n",
    "loss = lg.logistic_surrogate_loss(w, X, y)\n",
    "g = gradient_logistic_surrogate_loss(w, X, y)\n",
    "p = -g"
   ]
  },
  {
   "cell_type": "code",
   "execution_count": 341,
   "metadata": {},
   "outputs": [
    {
     "data": {
      "text/plain": [
       "array([-0.11267009, -0.11267009, -0.11267009, -0.11267009, -0.11267009,\n",
       "       -0.11267009, -0.11267009, -0.11267009, -0.11267009, -0.11267009,\n",
       "        0.25091932])"
      ]
     },
     "execution_count": 341,
     "metadata": {},
     "output_type": "execute_result"
    }
   ],
   "source": [
    "g"
   ]
  },
  {
   "cell_type": "code",
   "execution_count": null,
   "metadata": {},
   "outputs": [],
   "source": [
    "w"
   ]
  },
  {
   "cell_type": "code",
   "execution_count": 325,
   "metadata": {},
   "outputs": [
    {
     "name": "stdout",
     "output_type": "stream",
     "text": [
      "0.2550329123862916\n"
     ]
    }
   ],
   "source": [
    "print(loss)"
   ]
  },
  {
   "cell_type": "code",
   "execution_count": 326,
   "metadata": {},
   "outputs": [
    {
     "name": "stdout",
     "output_type": "stream",
     "text": [
      "returning eta1 at line 16\n"
     ]
    },
    {
     "data": {
      "text/plain": [
       "(0.02904281154582845, 0.25503334104558034)"
      ]
     },
     "execution_count": 326,
     "metadata": {},
     "output_type": "execute_result"
    }
   ],
   "source": [
    "line_search(X, y, w, f=lg.logistic_surrogate_loss, pk=p, gfk=g, old_fval=loss)"
   ]
  },
  {
   "cell_type": "code",
   "execution_count": 304,
   "metadata": {},
   "outputs": [],
   "source": [
    "def gradient_logistic_surrogate_loss(w, X, y):\n",
    "    \"\"\"Calcul du vecteur gradient Eq. (3.17) avec le biais en plus\n",
    "    Paramètres\n",
    "    -----------\n",
    "    X: matrix, or sparse array shape (n, d)\n",
    "    y: array, shape (n,)\n",
    "        True labels\n",
    "    w: array, shape (d,)\n",
    "        Weight vectors\n",
    "    w0: scalar,\n",
    "        bais\n",
    "    Renvoie\n",
    "    -------\n",
    "    grad : array, shape (d,)\n",
    "        Vecteur gradient de la fonction de coût logistique\n",
    "    \"\"\"\n",
    "    n, d = X.shape\n",
    "    g = np.zeros(d + 1)\n",
    "    ps = np.dot(X, w[:-1]).sum() + w[-1]\n",
    "    g[-1] = ((logistic(y * ps) - 1.0) * y).sum()\n",
    "    g[:d] = np.dot((logistic(y * ps) - 1.0) * y, X).sum()\n",
    "    g /= n\n",
    "    return gdef line_search_armijo(f, xk, pk, gfk, old_fval, args=(), c1=1e-4, alpha0=1):\n",
    "    \"\"\"Minimize over alpha, the function ``f(xk+alpha pk)``.\n",
    "    Parameters\n",
    "    ----------\n",
    "    f : callable\n",
    "        Function to be minimized.\n",
    "    xk : array_like\n",
    "        Current point.\n",
    "    pk : array_like\n",
    "        Search direction.\n",
    "    gfk : array_like\n",
    "        Gradient of `f` at point `xk`.\n",
    "    old_fval : float\n",
    "        Value of `f` at point `xk`.\n",
    "    args : tuple, optional\n",
    "        Optional arguments.\n",
    "    c1 : float, optional\n",
    "        Value to control stopping criterion.\n",
    "    alpha0 : scalar, optional\n",
    "        Value of `alpha` at start of the optimization.\n",
    "    Returns\n",
    "    -------\n",
    "    alpha\n",
    "    f_count\n",
    "    f_val_at_alpha\n",
    "    Notes\n",
    "    -----\n",
    "    Uses the interpolation algorithm (Armijo backtracking) as suggested by\n",
    "    Wright and Nocedal in 'Numerical Optimization', 1999, pg. 56-57\n",
    "    \"\"\"\n",
    "    xk = np.atleast_1d(xk)\n",
    "    fc = [0]\n",
    "\n",
    "    def phi(alpha1):\n",
    "        fc[0] += 1\n",
    "        return f(xk + alpha1*pk, *args)\n",
    "\n",
    "    if old_fval is None:\n",
    "        phi0 = phi(0.)\n",
    "    else:\n",
    "        phi0 = old_fval  # compute f(xk) -- done in past loop\n",
    "\n",
    "    derphi0 = np.dot(gfk, pk)\n",
    "    alpha, phi1 = scalar_search_armijo(phi, phi0, derphi0, c1=c1,\n",
    "                                       alpha0=alpha0)\n",
    "    return alpha, fc[0], phi1\n",
    "\n",
    "\n",
    "def scalar_search_armijo(phi, phi0, derphi0, c1=1e-4, alpha0=1, amin=0):\n",
    "    \"\"\"Minimize over alpha, the function ``phi(alpha)``.\n",
    "    Uses the interpolation algorithm (Armijo backtracking) as suggested by\n",
    "    Wright and Nocedal in 'Numerical Optimization', 1999, pg. 56-57\n",
    "    alpha > 0 is assumed to be a descent direction.\n",
    "    Returns\n",
    "    -------\n",
    "    alpha\n",
    "    phi1\n",
    "    \"\"\"\n",
    "    phi_a0 = phi(alpha0)\n",
    "    if phi_a0 <= phi0 + c1*alpha0*derphi0:\n",
    "        return alpha0, phi_a0\n",
    "\n",
    "    # Otherwise compute the minimizer of a quadratic interpolant:\n",
    "\n",
    "    alpha1 = -(derphi0) * alpha0**2 / 2.0 / (phi_a0 - phi0 - derphi0 * alpha0)\n",
    "    phi_a1 = phi(alpha1)\n",
    "\n",
    "    if (phi_a1 <= phi0 + c1*alpha1*derphi0):\n",
    "        return alpha1, phi_a1\n",
    "\n",
    "    # Otherwise loop with cubic interpolation until we find an alpha which\n",
    "    # satisfies the first Wolfe condition (since we are backtracking, we will\n",
    "    # assume that the value of alpha is not too small and satisfies the second\n",
    "    # condition.\n",
    "\n",
    "    while alpha1 > amin:       # we are assuming alpha>0 is a descent direction\n",
    "        factor = alpha0**2 * alpha1**2 * (alpha1-alpha0)\n",
    "        a = alpha0**2 * (phi_a1 - phi0 - derphi0*alpha1) - \\\n",
    "            alpha1**2 * (phi_a0 - phi0 - derphi0*alpha0)\n",
    "        a = a / factor\n",
    "        b = -alpha0**3 * (phi_a1 - phi0 - derphi0*alpha1) + \\\n",
    "            alpha1**3 * (phi_a0 - phi0 - derphi0*alpha0)\n",
    "        b = b / factor\n",
    "\n",
    "        alpha2 = (-b + np.sqrt(abs(b**2 - 3 * a * derphi0))) / (3.0*a)\n",
    "        phi_a2 = phi(alpha2)\n",
    "\n",
    "        if (phi_a2 <= phi0 + c1*alpha2*derphi0):\n",
    "            return alpha2, phi_a2\n",
    "\n",
    "        if (alpha1 - alpha2) > alpha1 / 2.0 or (1 - alpha2/alpha1) < 0.96:\n",
    "            alpha2 = alpha1 / 2.0\n",
    "\n",
    "        alpha0 = alpha1\n",
    "        alpha1 = alpha2\n",
    "        phi_a0 = phi_a1\n",
    "        phi_a1 = phi_a2\n",
    "\n",
    "    # Failed to find a suitable step length\n",
    "    return None, phi_a1"
   ]
  },
  {
   "cell_type": "code",
   "execution_count": 327,
   "metadata": {},
   "outputs": [
    {
     "data": {
      "text/plain": [
       "(7.68736450093743e-13, 41, 0.2550329123862916)"
      ]
     },
     "execution_count": 327,
     "metadata": {},
     "output_type": "execute_result"
    }
   ],
   "source": [
    "line_search_armijo(f=logistic_surrogate_loss, xk=w, pk=p, gfk=g, old_fval=loss, args=(X, y))"
   ]
  },
  {
   "cell_type": "code",
   "execution_count": 347,
   "metadata": {},
   "outputs": [],
   "source": [
    "import pandas as pd\n",
    "marks = pd.read_csv(\"/home/iaamini/Documents/ML_practice/ML_fundamentals/marks.csv\", header=None)\n",
    "X = marks.iloc[:, :-1]\n",
    "# y = target values, last column of the data frame\n",
    "y = marks.iloc[:, -1]"
   ]
  },
  {
   "cell_type": "code",
   "execution_count": 348,
   "metadata": {},
   "outputs": [],
   "source": [
    "w = np.random.random(X.shape[1] + 1)"
   ]
  },
  {
   "cell_type": "code",
   "execution_count": 357,
   "metadata": {},
   "outputs": [
    {
     "data": {
      "text/plain": [
       "array([1., 1., 1., 1., 1., 1., 1., 1., 1., 1., 1., 1., 1., 1., 1., 1., 1.,\n",
       "       1., 1., 1., 1., 1., 1., 1., 1., 1., 1., 1., 1., 1., 1., 1., 1., 1.,\n",
       "       1., 1., 1., 1., 1., 1., 1., 1., 1., 1., 1., 1., 1., 1., 1., 1., 1.,\n",
       "       1., 1., 1., 1., 1., 1., 1., 1., 1., 1., 1., 1., 1., 1., 1., 1., 1.,\n",
       "       1., 1., 1., 1., 1., 1., 1., 1., 1., 1., 1., 1., 1., 1., 1., 1., 1.,\n",
       "       1., 1., 1., 1., 1., 1., 1., 1., 1., 1., 1., 1., 1., 1., 1.])"
      ]
     },
     "execution_count": 357,
     "metadata": {},
     "output_type": "execute_result"
    }
   ],
   "source": [
    "lg.logistic(np.dot(X, w[:-1]) + w[-1])"
   ]
  },
  {
   "cell_type": "code",
   "execution_count": 375,
   "metadata": {},
   "outputs": [],
   "source": [
    "def sigmoid(x):\n",
    "    # Activation function used to map any real value between 0 and 1\n",
    "    return 1 / (1 + np.exp(-x))\n",
    "\n",
    "def net_input(theta, x):\n",
    "    # Computes the weighted sum of inputs\n",
    "    return np.dot(x, theta[:-1]) + theta[-1]\n",
    "\n",
    "def probability(theta, x):\n",
    "    # Returns the probability after passing through sigmoid\n",
    "    return sigmoid(net_input(theta, x))\n",
    "\n",
    "def cost_function(theta, x, y):\n",
    "    # Computes the cost function for all the training samples\n",
    "    m = x.shape[0]\n",
    "    total_cost = -(1 / m) * np.sum(\n",
    "        y * np.log(probability(theta, x)) + (1 - y) * np.log(\n",
    "            1 - probability(theta, x)))\n",
    "    return total_cost\n",
    "          "
   ]
  },
  {
   "cell_type": "code",
   "execution_count": 376,
   "metadata": {},
   "outputs": [
    {
     "name": "stderr",
     "output_type": "stream",
     "text": [
      "/home/iaamini/Documents/ML_practice/ML_fundamentals/virtualenv/lib/python3.6/site-packages/ipykernel_launcher.py:19: RuntimeWarning: divide by zero encountered in log\n"
     ]
    },
    {
     "data": {
      "text/plain": [
       "inf"
      ]
     },
     "execution_count": 376,
     "metadata": {},
     "output_type": "execute_result"
    }
   ],
   "source": [
    "cost_function(w, X, y)"
   ]
  },
  {
   "cell_type": "code",
   "execution_count": 408,
   "metadata": {},
   "outputs": [],
   "source": [
    "def logistic_surrogate_loss(w, X, y):\n",
    "    \"\"\"Calcul de la fonction de coût logistique\n",
    "    Paramètres\n",
    "    -----------\n",
    "    X: matrix, or sparse array shape (n, d)\n",
    "    y: array, shape (n,)\n",
    "        True labels\n",
    "    w: array, shape (d+1,)\n",
    "        Weight vectors (the +1 is for the intercept)\n",
    "    Renvoie\n",
    "    -------\n",
    "    loss : float,\n",
    "        Valeur de la fonction de coût\n",
    "    \"\"\"\n",
    "    n, d = X.shape\n",
    "    ps = np.dot(X, w[:-1]).sum() + w[-1]\n",
    "    S = lg.logistic(y*ps).sum() / n\n",
    "    return S\n",
    "\n",
    "def gradient_logistic_surrogate_loss(w, X, y):\n",
    "    \"\"\"Calcul du vecteur gradient Eq. (3.17) avec le biais en plus\n",
    "    Paramètres\n",
    "    -----------\n",
    "    X: matrix, or sparse array shape (n, d)\n",
    "    y: array, shape (n,)\n",
    "        True labels\n",
    "    w: array, shape (d,)\n",
    "        Weight vectors\n",
    "    w0: scalar,\n",
    "        bais\n",
    "    Renvoie\n",
    "    -------\n",
    "    grad : array, shape (d,)\n",
    "        Vecteur gradient de la fonction de coût logistique\n",
    "    \"\"\"\n",
    "    m, d = X.shape\n",
    "    g = np.zeros(d + 1)\n",
    "    ps = np.dot(X, w[:-1]).sum() + w[-1]\n",
    "    g[-1] = ((lg.logistic(y * ps) -1) * y).sum()\n",
    "    g[:d] = np.dot((lg.logistic(y * ps) - 1.) * y, X).sum()\n",
    "    g /= m\n",
    "    return g\n",
    "\n",
    "def logistic_cost(w, X, y):\n",
    "    m = X.shape[0]\n",
    "    ps = np.dot(X, w[:-1]) + w[-1]\n",
    "    log_ps = lg.logistic(ps)\n",
    "    cost = ((y * np.log(log_ps) + (1- y)*np.log(1 - log_ps))).sum()\n",
    "    return cost\n",
    "                     \n",
    "def gradient_logistic_cost(W, X, y):\n",
    "    m = x.shape[0]\n",
    "    # Calcul du produit scalaire\n",
    "    ps = np.dot(X, w[:-1]) + w[-1]\n",
    "    # Calcul de la transformation logistique de ps\n",
    "    log_ps = lg.logistic(ps)\n",
    "#     print(log_ps)\n",
    "    return (1 / m) * (np.dot((log_ps - y), X))"
   ]
  },
  {
   "cell_type": "code",
   "execution_count": 409,
   "metadata": {},
   "outputs": [],
   "source": [
    "def gradient_descent(x0, f, g, args=(), learning_rate=0.05, T=1000):\n",
    "    \"\"\"\n",
    "    X: array of values\n",
    "    f: function to apply\n",
    "    g: gradient of the function\n",
    "    learning_rate: Learning rate for each step\n",
    "    T: number of iteration\n",
    "    \"\"\"\n",
    "    x = x0\n",
    "    t = 0\n",
    "    x_list = [x]\n",
    "    while t <= T:\n",
    "        x -= learning_rate * g(x, *args)\n",
    "        x_list.append(x)\n",
    "        t +=1\n",
    "    return x_list"
   ]
  },
  {
   "cell_type": "code",
   "execution_count": 410,
   "metadata": {},
   "outputs": [
    {
     "data": {
      "text/plain": [
       "array([41.62584088, 43.69631368])"
      ]
     },
     "execution_count": 410,
     "metadata": {},
     "output_type": "execute_result"
    }
   ],
   "source": [
    "gradient_logistic_cost(w, X, y)"
   ]
  },
  {
   "cell_type": "code",
   "execution_count": 411,
   "metadata": {},
   "outputs": [
    {
     "data": {
      "text/plain": [
       "[array([ 3.69969149, -1.40597105]),\n",
       " array([ 3.69969149, -1.40597105]),\n",
       " array([ 3.69969149, -1.40597105]),\n",
       " array([ 3.69969149, -1.40597105]),\n",
       " array([ 3.69969149, -1.40597105]),\n",
       " array([ 3.69969149, -1.40597105]),\n",
       " array([ 3.69969149, -1.40597105]),\n",
       " array([ 3.69969149, -1.40597105]),\n",
       " array([ 3.69969149, -1.40597105]),\n",
       " array([ 3.69969149, -1.40597105]),\n",
       " array([ 3.69969149, -1.40597105]),\n",
       " array([ 3.69969149, -1.40597105]),\n",
       " array([ 3.69969149, -1.40597105]),\n",
       " array([ 3.69969149, -1.40597105]),\n",
       " array([ 3.69969149, -1.40597105]),\n",
       " array([ 3.69969149, -1.40597105]),\n",
       " array([ 3.69969149, -1.40597105])]"
      ]
     },
     "execution_count": 411,
     "metadata": {},
     "output_type": "execute_result"
    }
   ],
   "source": [
    "gradient_descent(w[:-1], logistic_cost, gradient_logistic_cost, args=(X, y), T=15)"
   ]
  }
 ],
 "metadata": {
  "kernelspec": {
   "display_name": "Python 3",
   "language": "python",
   "name": "python3"
  },
  "language_info": {
   "codemirror_mode": {
    "name": "ipython",
    "version": 3
   },
   "file_extension": ".py",
   "mimetype": "text/x-python",
   "name": "python",
   "nbconvert_exporter": "python",
   "pygments_lexer": "ipython3",
   "version": "3.7.5"
  }
 },
 "nbformat": 4,
 "nbformat_minor": 2
}
